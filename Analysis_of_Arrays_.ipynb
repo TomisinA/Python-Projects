{
  "nbformat": 4,
  "nbformat_minor": 0,
  "metadata": {
    "colab": {
      "provenance": [],
      "authorship_tag": "ABX9TyPwTPyE+IOxdLKJHT2SYcvK",
      "include_colab_link": true
    },
    "kernelspec": {
      "name": "python3",
      "display_name": "Python 3"
    },
    "language_info": {
      "name": "python"
    }
  },
  "cells": [
    {
      "cell_type": "markdown",
      "metadata": {
        "id": "view-in-github",
        "colab_type": "text"
      },
      "source": [
        "<a href=\"https://colab.research.google.com/github/TomisinA/Python-Projects/blob/main/Analysis_of_Arrays_.ipynb\" target=\"_parent\"><img src=\"https://colab.research.google.com/assets/colab-badge.svg\" alt=\"Open In Colab\"/></a>"
      ]
    },
    {
      "cell_type": "code",
      "execution_count": null,
      "metadata": {
        "colab": {
          "base_uri": "https://localhost:8080/"
        },
        "id": "fQtqCJX_2y_F",
        "outputId": "a3089ff1-8c61-4d3b-b30f-9c49e46ee8e8"
      },
      "outputs": [
        {
          "output_type": "execute_result",
          "data": {
            "text/plain": [
              "0"
            ]
          },
          "metadata": {},
          "execution_count": 6
        }
      ],
      "source": [
        "#search elements in an array\n",
        "def searchELE(n):\n",
        "  y = [8,1,90,3,4,7,0]\n",
        "  m = 0\n",
        "  for i in y:\n",
        "    if m < len(y):\n",
        "      if y[m] == n:\n",
        "        print('element ' + str(n) + ' found in array')\n",
        "        m += 1\n",
        "      else:\n",
        "        \n",
        "    return 0\n",
        "\n",
        "searchELE(4)"
      ]
    },
    {
      "cell_type": "code",
      "source": [
        "a1 = [9, 3, 7, 8]\n",
        "pos = 2\n",
        "num = 10\n",
        "\n",
        "a1.append(10)\n",
        "print(a1)"
      ],
      "metadata": {
        "id": "QOX_Gw7368YV",
        "colab": {
          "base_uri": "https://localhost:8080/"
        },
        "outputId": "fed44235-7cfe-4427-fba4-49b7b6dc19e9"
      },
      "execution_count": null,
      "outputs": [
        {
          "output_type": "stream",
          "name": "stdout",
          "text": [
            "[9, 3, 7, 8, 10]\n"
          ]
        }
      ]
    },
    {
      "cell_type": "code",
      "source": [
        "for i in a1:\n",
        "  if i == 7:\n",
        "    print(i)"
      ],
      "metadata": {
        "colab": {
          "base_uri": "https://localhost:8080/"
        },
        "id": "AdYbokb4si__",
        "outputId": "d3cd5237-a79e-4f84-f68e-00529de2cbb0"
      },
      "execution_count": null,
      "outputs": [
        {
          "output_type": "stream",
          "name": "stdout",
          "text": [
            "7\n"
          ]
        }
      ]
    },
    {
      "cell_type": "code",
      "source": [
        "for i in range(len(a1)):\n",
        "  if a1[i]==7:\n",
        "    a1[i]=5"
      ],
      "metadata": {
        "id": "M-nGdDrNtQNU"
      },
      "execution_count": null,
      "outputs": []
    },
    {
      "cell_type": "code",
      "source": [
        "a1"
      ],
      "metadata": {
        "colab": {
          "base_uri": "https://localhost:8080/"
        },
        "id": "rBPMpMy7t3DZ",
        "outputId": "47a4bcfe-d7c1-4fc3-8ccb-1ffacfba59da"
      },
      "execution_count": null,
      "outputs": [
        {
          "output_type": "execute_result",
          "data": {
            "text/plain": [
              "[9, 3, 5, 8, 10]"
            ]
          },
          "metadata": {},
          "execution_count": 13
        }
      ]
    },
    {
      "cell_type": "code",
      "source": [
        "i=0\n",
        "while i<=5:\n",
        "  print(i)\n",
        "  i+=1 "
      ],
      "metadata": {
        "colab": {
          "base_uri": "https://localhost:8080/"
        },
        "id": "gmzrcm84t_yS",
        "outputId": "ecd70d76-d4a0-4a85-f976-d765ae8ed563"
      },
      "execution_count": null,
      "outputs": [
        {
          "output_type": "stream",
          "name": "stdout",
          "text": [
            "0\n",
            "1\n",
            "2\n",
            "3\n",
            "4\n",
            "5\n"
          ]
        }
      ]
    },
    {
      "cell_type": "code",
      "source": [
        "def insertpos(n, p):\n",
        "  a2 = [3, 9, 6, 5, 4]\n",
        "  a2.append(0)\n",
        "  idx = p - 1 \n",
        "  l = len(a2) - 1\n",
        "  while l > idx:\n",
        "    a2[l] = a2[l-1]\n",
        "    l = l - 1\n",
        "  a2[idx] = n\n",
        "  print(a2)\n",
        "\n",
        "insertpos(10, 2)"
      ],
      "metadata": {
        "colab": {
          "base_uri": "https://localhost:8080/"
        },
        "id": "VghIvsVMwWGY",
        "outputId": "0619bf25-7cdb-4b60-e074-0100fd2ae9a8"
      },
      "execution_count": null,
      "outputs": [
        {
          "output_type": "stream",
          "name": "stdout",
          "text": [
            "[3, 10, 9, 6, 5, 4]\n"
          ]
        }
      ]
    },
    {
      "cell_type": "code",
      "source": [
        "#delete an element in an array (first occurence)\n",
        "a3 = [4, 7, 0, 1, 9, 10, 2, 0, 8, 9]\n",
        "def deleteELE(n):\n",
        "  for i in range(len(a3)):\n",
        "    if a3[i] == n:\n",
        "      break\n",
        "  while i < len(a3) - 1:\n",
        "      a3[i] = a3[i+1]\n",
        "      i = i + 1\n",
        "  a4 = a3[:-1]\n",
        "  print(a4)\n",
        "  \n",
        "deleteELE(0)\n"
      ],
      "metadata": {
        "id": "lY1zPcum32m5",
        "colab": {
          "base_uri": "https://localhost:8080/"
        },
        "outputId": "e54d1e20-b283-4a21-f3e8-8a4d20e68123"
      },
      "execution_count": null,
      "outputs": [
        {
          "output_type": "stream",
          "name": "stdout",
          "text": [
            "[4, 7, 1, 9, 10, 2, 0, 8, 9]\n"
          ]
        }
      ]
    },
    {
      "cell_type": "code",
      "source": [
        "#delete an element in an array (all occurence)\n",
        "a3 = [4, 7, 0, 1, 9, 10, 2, 0, 8, 9]\n",
        "def deleteELE(n):\n",
        "  occur = 0 \n",
        "  for i in range(len(a3)):    \n",
        "    if a3[i] == n:\n",
        "      occur = occur + 1\n",
        "      while i < len(a3) - 1:\n",
        "        a3[i] = a3[i+1]\n",
        "        i = i + 1\n",
        "  a4 = a3[:-occur]\n",
        "  print(a4)\n",
        "  print(occur)\n",
        "  \n",
        "deleteELE(9)"
      ],
      "metadata": {
        "colab": {
          "base_uri": "https://localhost:8080/"
        },
        "id": "T9gybnmdlgpc",
        "outputId": "2de9413c-ae9c-4ffe-83fe-83a1106259ca"
      },
      "execution_count": null,
      "outputs": [
        {
          "output_type": "stream",
          "name": "stdout",
          "text": [
            "[4, 7, 0, 1, 10, 2, 0]\n",
            "3\n"
          ]
        }
      ]
    },
    {
      "cell_type": "code",
      "source": [
        "#largest element in array\n",
        "a5 = [70, 200, 100, 10000]\n",
        "def lE():\n",
        "  la = 0\n",
        "  for j in range(len(a5)):\n",
        "    if a5[j] >= a5[la]:\n",
        "      la = j\n",
        "  print(la)\n",
        "lE()"
      ],
      "metadata": {
        "colab": {
          "base_uri": "https://localhost:8080/"
        },
        "id": "O-6lMbWKthtn",
        "outputId": "13f4a5ea-26be-4b83-be03-1c08eeb1c49e"
      },
      "execution_count": null,
      "outputs": [
        {
          "output_type": "stream",
          "name": "stdout",
          "text": [
            "3\n"
          ]
        }
      ]
    },
    {
      "cell_type": "code",
      "source": [
        "#check if an array is sorted or not\n",
        "a6 = [2, 5, 100, 7000, 4000, 30000]\n",
        "def soRT():\n",
        "  s = 0\n",
        "  for i in range(len(a6)):\n",
        "    if a6[i] >= a6[s]:\n",
        "      s = i\n",
        " \n",
        "    elif a6[i] < a6[s]:\n",
        "      return('array not sorted')\n",
        "       \n",
        "  return('array sorted')\n",
        "soRT()"
      ],
      "metadata": {
        "colab": {
          "base_uri": "https://localhost:8080/",
          "height": 35
        },
        "id": "pSMoB6LJyF-o",
        "outputId": "b1c1db50-c6a0-4164-a5c8-bf630f2bc43f"
      },
      "execution_count": null,
      "outputs": [
        {
          "output_type": "execute_result",
          "data": {
            "text/plain": [
              "'array not sorted'"
            ],
            "application/vnd.google.colaboratory.intrinsic+json": {
              "type": "string"
            }
          },
          "metadata": {},
          "execution_count": 118
        }
      ]
    },
    {
      "cell_type": "code",
      "source": [
        "a6 = [2, 5, 100, 7000, 4000, 30000]\n",
        "def soRT():\n",
        "  s = 0\n",
        "  for i in range(len(a6)):\n",
        "    if a6[i] >= a6[s]:\n",
        "      s = i\n",
        " \n",
        "    elif a6[i] < a6[s]:\n",
        "      return('array not sorted')\n",
        "       \n",
        "  return('array sorted')\n",
        "soRT()"
      ],
      "metadata": {
        "id": "9mGETbQI7bz0"
      },
      "execution_count": null,
      "outputs": []
    },
    {
      "cell_type": "code",
      "source": [
        "#second largest element in array\n",
        "a7 = [2, 5, 100, 7000, 4000, 30000] #[90, 80, 10, 7, 6, 100]\n",
        "def sLE():\n",
        "  largest = 0\n",
        "  slargest = 0\n",
        "  for i in range(len(a7)):\n",
        "    if a7[i] >= a7[largest]:\n",
        "      slargest = largest\n",
        "      largest = i\n",
        "  return slargest, largest\n",
        "\n",
        "sLE()\n"
      ],
      "metadata": {
        "colab": {
          "base_uri": "https://localhost:8080/"
        },
        "id": "EH5N_ojtl9iU",
        "outputId": "f06991d6-a957-4ef7-b45d-d6ce22bb64be"
      },
      "execution_count": null,
      "outputs": [
        {
          "output_type": "execute_result",
          "data": {
            "text/plain": [
              "(3, 5)"
            ]
          },
          "metadata": {},
          "execution_count": 4
        }
      ]
    },
    {
      "cell_type": "code",
      "source": [
        "#reverse an array\n",
        "a8 = [3, 10, 60, 20, 30]\n",
        "low = 0\n",
        "high = len(a8) - 1\n",
        "while low < high:\n",
        "  temp = a8[low]\n",
        "  a8[low] = a8[high]\n",
        "  a8[high] = temp\n",
        "  low = low + 1\n",
        "  high = high - 1\n",
        "print(a8)"
      ],
      "metadata": {
        "colab": {
          "base_uri": "https://localhost:8080/"
        },
        "id": "f3r9LuPirMt1",
        "outputId": "a865e6f2-a251-4d45-f17e-1da1d6c9e190"
      },
      "execution_count": null,
      "outputs": [
        {
          "output_type": "stream",
          "name": "stdout",
          "text": [
            "[30, 20, 60, 10, 3]\n"
          ]
        }
      ]
    },
    {
      "cell_type": "code",
      "source": [
        "#remove duplicates from a sorted array\n",
        "a9 = [10, 10, 20, 20, 30, 30, 30, 40, 50, 50]\n",
        "def dup():\n",
        "  temp = [a9[0], 0, 0, 0, 0]\n",
        "  j = 1\n",
        "  i = 0\n",
        "  while i < len(a9) - 1:\n",
        "    if a9[i+1] != a9[i]:\n",
        "      temp[j] = a9[i+1]\n",
        "      j = j+1\n",
        "    i = i+1\n",
        "  print(temp)\n",
        "dup()"
      ],
      "metadata": {
        "id": "FchzZSTYuz45",
        "colab": {
          "base_uri": "https://localhost:8080/"
        },
        "outputId": "9db82d9e-83e8-4288-c7d3-13d616109554"
      },
      "execution_count": null,
      "outputs": [
        {
          "output_type": "stream",
          "name": "stdout",
          "text": [
            "[10, 20, 30, 40, 50]\n"
          ]
        }
      ]
    },
    {
      "cell_type": "code",
      "source": [
        "#left rotate an array by 1\n",
        "a10 = [12, 4, 9, 5]\n",
        "def leftR():\n",
        "  last = a10[0]\n",
        "  i = 0\n",
        "  while i < len(a10) - 1:\n",
        "    a10[i] = a10[i+1]\n",
        "    i += 1\n",
        "  a10[-1] = last\n",
        "  print(a10)\n",
        "leftR()\n"
      ],
      "metadata": {
        "colab": {
          "base_uri": "https://localhost:8080/"
        },
        "id": "gStemxEtFo5e",
        "outputId": "4be5d7a0-66cd-4007-b735-46f50d23a883"
      },
      "execution_count": null,
      "outputs": [
        {
          "output_type": "stream",
          "name": "stdout",
          "text": [
            "[4, 9, 5, 12]\n"
          ]
        }
      ]
    },
    {
      "cell_type": "code",
      "source": [
        "#left rotate an array by 1 using for loop\n",
        "a10 = [12, 4, 9, 5]\n",
        "def leftR():\n",
        "  last = a10[0]\n",
        "  i = 0\n",
        "  for i in range(len(a10)-1):\n",
        "    a10[i] = a10[i+1]\n",
        "  a10[-1] = last\n",
        "  print(a10)\n",
        "leftR()"
      ],
      "metadata": {
        "colab": {
          "base_uri": "https://localhost:8080/"
        },
        "id": "wB-1iMZ8RUJd",
        "outputId": "3a4e94b4-1c92-468a-e99b-5571a1961241"
      },
      "execution_count": null,
      "outputs": [
        {
          "output_type": "stream",
          "name": "stdout",
          "text": [
            "[4, 9, 5, 12]\n"
          ]
        }
      ]
    },
    {
      "cell_type": "code",
      "source": [
        "#left rotate an array by d places\n",
        "a11 = [3, 7, 2, 0, 8, 6]\n",
        "def leftRbyD(d):\n",
        "  temp2 = list(range(d))\n",
        "  i = 0\n",
        "  j = 0\n",
        "  while i < d:\n",
        "    temp2[j] = a11[i]\n",
        "    i += 1\n",
        "    j += 1\n",
        "  k = 0\n",
        "  j = d\n",
        "  while j < len(a11):\n",
        "    a11[k] = a11[j]\n",
        "    k += 1\n",
        "    j += 1\n",
        "  l = 0\n",
        "  m = d\n",
        "  while l < d:\n",
        "    a11[len(a11)-m] = temp2[l]\n",
        "    l += 1\n",
        "    m -= 1 \n",
        "  print(a11)\n",
        "leftRbyD(3)"
      ],
      "metadata": {
        "colab": {
          "base_uri": "https://localhost:8080/"
        },
        "id": "fFQPmESiTiLN",
        "outputId": "5daf38e8-06e9-4aa6-9b5a-90ce712a3b1a"
      },
      "execution_count": null,
      "outputs": [
        {
          "output_type": "stream",
          "name": "stdout",
          "text": [
            "[0, 8, 6, 3, 7, 2]\n"
          ]
        }
      ]
    },
    {
      "cell_type": "code",
      "source": [
        "a = 2\n",
        "l = list(range(a))\n",
        "type(l)"
      ],
      "metadata": {
        "colab": {
          "base_uri": "https://localhost:8080/"
        },
        "id": "4S_u35ABYUZT",
        "outputId": "46052f8c-c4c6-400d-ac9c-20d7918e2ef0"
      },
      "execution_count": null,
      "outputs": [
        {
          "output_type": "execute_result",
          "data": {
            "text/plain": [
              "list"
            ]
          },
          "metadata": {},
          "execution_count": 21
        }
      ]
    },
    {
      "cell_type": "code",
      "source": [
        "#left rotate an array by d places using reversal algorithm\n",
        "def reval(n):\n"
      ],
      "metadata": {
        "id": "ENMXlOrsg_Jz"
      },
      "execution_count": null,
      "outputs": []
    }
  ]
}