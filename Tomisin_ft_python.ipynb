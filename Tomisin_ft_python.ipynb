{
  "nbformat": 4,
  "nbformat_minor": 0,
  "metadata": {
    "colab": {
      "provenance": [],
      "include_colab_link": true
    },
    "kernelspec": {
      "name": "python3",
      "display_name": "Python 3"
    },
    "language_info": {
      "name": "python"
    }
  },
  "cells": [
    {
      "cell_type": "markdown",
      "metadata": {
        "id": "view-in-github",
        "colab_type": "text"
      },
      "source": [
        "<a href=\"https://colab.research.google.com/github/TomisinA/Python-Projects/blob/main/Tomisin_ft_python.ipynb\" target=\"_parent\"><img src=\"https://colab.research.google.com/assets/colab-badge.svg\" alt=\"Open In Colab\"/></a>"
      ]
    },
    {
      "cell_type": "code",
      "execution_count": null,
      "metadata": {
        "colab": {
          "base_uri": "https://localhost:8080/"
        },
        "id": "b_CvT0C8KgIe",
        "outputId": "b67d4844-cca2-4b84-9b19-70f429fe4144"
      },
      "outputs": [
        {
          "output_type": "stream",
          "name": "stdout",
          "text": [
            "hello world\n",
            "True\n",
            "15\n",
            "y\n",
            "3\n",
            "Girasse Academy\n",
            "Enter a number: 2\n",
            "Enter another number: 2\n",
            "4.0\n",
            "Enter a color: red\n",
            "Enter a plural noun: pencils\n",
            "Who is a celebrity you like? SZA\n",
            "Roses are RED\n",
            "Pencils are blue\n",
            "I love sza\n"
          ]
        }
      ],
      "source": [
        "print(\"hello world\")\n",
        "phrase = 'Giraffe Academy'\n",
        "print(phrase.upper().isupper())\n",
        "print(len(phrase))\n",
        "print(phrase[-1])\n",
        "print(phrase.index(\"a\"))\n",
        "print(phrase.replace(\"f\", \"s\"))\n",
        "\n",
        "num1 = input('Enter a number: ')\n",
        "num2 = input('Enter another number: ')\n",
        "result = float(num1) + float(num2)\n",
        "print(result)"
      ]
    },
    {
      "cell_type": "code",
      "source": [
        "color = input('Enter a color: ')\n",
        "plural_noun = input('Enter a plural noun: ')\n",
        "celebrity = input('Who is a celebrity you like? ')\n",
        "\n",
        "print('Roses are ' + color.upper())\n",
        "print(plural_noun.capitalize() + ' are blue')\n",
        "print('I love ' + celebrity.lower())"
      ],
      "metadata": {
        "colab": {
          "base_uri": "https://localhost:8080/"
        },
        "id": "YPH7vgJMuFn9",
        "outputId": "41fd0954-eeff-4e27-e85d-d159a89b9caa"
      },
      "execution_count": null,
      "outputs": [
        {
          "output_type": "stream",
          "name": "stdout",
          "text": [
            "Enter a color: red\n",
            "Enter a plural noun: pencils\n",
            "Who is a celebrity you like? LAMAR\n",
            "Roses are RED\n",
            "Pencils are blue\n",
            "I love lamar\n"
          ]
        }
      ]
    },
    {
      "cell_type": "code",
      "source": [
        "friends = ['Opeyemi', 'Tomisin', 'Shade', 'Obinna', 'Tunde', 'Emeka']\n",
        "lucky_numbers = [3, 2, 4, 7.0, 8.945, 71, 119]\n",
        "print(friends)\n",
        "print(lucky_numbers)\n",
        "friends.extend(lucky_numbers)\n",
        "friends.insert(-2, 'Temi Makay')\n",
        "friends.append('John')\n",
        "friends.pop()\n",
        "friends.remove(\"Temi Makay\")\n",
        "friends.clear()\n",
        "print(friends)"
      ],
      "metadata": {
        "colab": {
          "base_uri": "https://localhost:8080/"
        },
        "id": "B5gLbTVjyQgM",
        "outputId": "b67c5d88-e487-41a9-c287-86641d1c05bc"
      },
      "execution_count": null,
      "outputs": [
        {
          "output_type": "stream",
          "name": "stdout",
          "text": [
            "['Opeyemi', 'Tomisin', 'Shade', 'Obinna', 'Tunde', 'Emeka']\n",
            "[3, 2, 4, 7.0, 8.945, 71, 119]\n",
            "[]\n"
          ]
        }
      ]
    },
    {
      "cell_type": "code",
      "source": [
        "def add_two_nums():\n",
        "  num1 = input(\"Enter first number: \")\n",
        "  num2 = input(\"Enter second number: \")\n",
        "  result = int(num1) + int(num2)\n",
        "  print(result)\n",
        "add_two_nums()"
      ],
      "metadata": {
        "colab": {
          "base_uri": "https://localhost:8080/"
        },
        "id": "AQgIvgLwj68k",
        "outputId": "d742deab-9a55-4de3-a326-bab0b37da1c1"
      },
      "execution_count": null,
      "outputs": [
        {
          "output_type": "stream",
          "name": "stdout",
          "text": [
            "Enter first number: 3\n",
            "Enter second number: 3\n",
            "6\n"
          ]
        }
      ]
    },
    {
      "cell_type": "code",
      "source": [
        "def max_number():\n",
        "  num1 = int(input('Enter number 1: '))\n",
        "  num2 = int(input('Enter number 2: '))\n",
        "  num3 = int(input('Enter number 3: '))\n",
        "  if num1 >= num2 and num1 >= num3:\n",
        "    print(\"The maximum number is \" + str(num1))\n",
        "  elif num2 >= num1 and num2 >= num3:\n",
        "    print(\"The maximum number is \" + str(num2))\n",
        "  elif num3 >= num2 and num3 >= num1:\n",
        "    print(\"The maximum number is \" + str(num3))\n",
        "  else: \n",
        "    print(\"Two numbers are equal\")\n",
        "max_number()"
      ],
      "metadata": {
        "colab": {
          "base_uri": "https://localhost:8080/"
        },
        "id": "9VxQcX6spUjX",
        "outputId": "f98e5748-82f6-4f75-a440-dc4e20558996"
      },
      "execution_count": null,
      "outputs": [
        {
          "output_type": "stream",
          "name": "stdout",
          "text": [
            "Enter number 1: 3\n",
            "Enter number 2: 3\n",
            "Enter number 3: 3\n",
            "The maximum number is 3\n"
          ]
        }
      ]
    },
    {
      "cell_type": "code",
      "source": [
        "def max_number(num1, num2, num3):\n",
        "  if num1 >= num2 and num1 >= num3:\n",
        "    return num1\n",
        "  elif num2 >= num1 and num2 >= num3:\n",
        "    return num2\n",
        "  elif num3 >= num2 and num3 >= num1:\n",
        "    return num3\n",
        "  else: \n",
        "    print(\"Two numbers are equal\")\n",
        "max_number(60, 60, 60)"
      ],
      "metadata": {
        "colab": {
          "base_uri": "https://localhost:8080/"
        },
        "id": "ycOiNOiptIYo",
        "outputId": "5fc458a1-a556-4f08-9904-c91eed5517e7"
      },
      "execution_count": null,
      "outputs": [
        {
          "output_type": "execute_result",
          "data": {
            "text/plain": [
              "60"
            ]
          },
          "metadata": {},
          "execution_count": 19
        }
      ]
    },
    {
      "cell_type": "code",
      "source": [
        "secret_word = \"Tomisin\"\n",
        "alternative = \"tomisin\"\n",
        "guess = input()\n",
        "while guess != secret_word:\n",
        "  guess = input()\n",
        "print(\"Done! You guessed it right\")"
      ],
      "metadata": {
        "colab": {
          "base_uri": "https://localhost:8080/"
        },
        "id": "KBJ2_R1S190Z",
        "outputId": "a1a510bf-c0ef-4def-9be9-35bdb5fd0352"
      },
      "execution_count": null,
      "outputs": [
        {
          "output_type": "stream",
          "name": "stdout",
          "text": [
            "Tomisin\n",
            "Done! You guessed it right\n"
          ]
        }
      ]
    },
    {
      "cell_type": "code",
      "source": [
        "secret_guess = \"Opeyemi\"\n",
        "guess_count = 1\n",
        "guess_limit = 5\n",
        "guess = input()\n",
        "\n",
        "while guess != secret_guess:"
      ],
      "metadata": {
        "id": "NNcb2SxS5HYL"
      },
      "execution_count": null,
      "outputs": []
    },
    {
      "cell_type": "code",
      "source": [
        "secret_guess = 'Opeyemi'\n",
        "guess = input('Enter a guess: ')\n",
        "while guess != secret_guess:\n",
        "    for i in range(4):\n",
        "      guess = input('Enter another guess: ')\n",
        "    print('Out of guesses, you lose')\n",
        "\n",
        "print('You win')\n"
      ],
      "metadata": {
        "colab": {
          "base_uri": "https://localhost:8080/",
          "height": 647
        },
        "id": "aS8aA4357-Or",
        "outputId": "033d473f-b9a1-4155-f6f2-947ae2e42c07"
      },
      "execution_count": null,
      "outputs": [
        {
          "output_type": "stream",
          "name": "stdout",
          "text": [
            "Enter a guess: yun\n",
            "Enter another guess: uh\n",
            "Enter another guess: Opeyemi\n",
            "Enter another guess: yun\n",
            "Enter another guess: yuh\n",
            "Enter another guess: hin\n",
            "Out of guesses, you lose\n"
          ]
        },
        {
          "output_type": "error",
          "ename": "KeyboardInterrupt",
          "evalue": "ignored",
          "traceback": [
            "\u001b[0;31m---------------------------------------------------------------------------\u001b[0m",
            "\u001b[0;31mKeyboardInterrupt\u001b[0m                         Traceback (most recent call last)",
            "\u001b[0;32m/usr/local/lib/python3.7/dist-packages/ipykernel/kernelbase.py\u001b[0m in \u001b[0;36m_input_request\u001b[0;34m(self, prompt, ident, parent, password)\u001b[0m\n\u001b[1;32m    728\u001b[0m             \u001b[0;32mtry\u001b[0m\u001b[0;34m:\u001b[0m\u001b[0;34m\u001b[0m\u001b[0;34m\u001b[0m\u001b[0m\n\u001b[0;32m--> 729\u001b[0;31m                 \u001b[0mident\u001b[0m\u001b[0;34m,\u001b[0m \u001b[0mreply\u001b[0m \u001b[0;34m=\u001b[0m \u001b[0mself\u001b[0m\u001b[0;34m.\u001b[0m\u001b[0msession\u001b[0m\u001b[0;34m.\u001b[0m\u001b[0mrecv\u001b[0m\u001b[0;34m(\u001b[0m\u001b[0mself\u001b[0m\u001b[0;34m.\u001b[0m\u001b[0mstdin_socket\u001b[0m\u001b[0;34m,\u001b[0m \u001b[0;36m0\u001b[0m\u001b[0;34m)\u001b[0m\u001b[0;34m\u001b[0m\u001b[0;34m\u001b[0m\u001b[0m\n\u001b[0m\u001b[1;32m    730\u001b[0m             \u001b[0;32mexcept\u001b[0m \u001b[0mException\u001b[0m\u001b[0;34m:\u001b[0m\u001b[0;34m\u001b[0m\u001b[0;34m\u001b[0m\u001b[0m\n",
            "\u001b[0;32m/usr/local/lib/python3.7/dist-packages/jupyter_client/session.py\u001b[0m in \u001b[0;36mrecv\u001b[0;34m(self, socket, mode, content, copy)\u001b[0m\n\u001b[1;32m    802\u001b[0m         \u001b[0;32mtry\u001b[0m\u001b[0;34m:\u001b[0m\u001b[0;34m\u001b[0m\u001b[0;34m\u001b[0m\u001b[0m\n\u001b[0;32m--> 803\u001b[0;31m             \u001b[0mmsg_list\u001b[0m \u001b[0;34m=\u001b[0m \u001b[0msocket\u001b[0m\u001b[0;34m.\u001b[0m\u001b[0mrecv_multipart\u001b[0m\u001b[0;34m(\u001b[0m\u001b[0mmode\u001b[0m\u001b[0;34m,\u001b[0m \u001b[0mcopy\u001b[0m\u001b[0;34m=\u001b[0m\u001b[0mcopy\u001b[0m\u001b[0;34m)\u001b[0m\u001b[0;34m\u001b[0m\u001b[0;34m\u001b[0m\u001b[0m\n\u001b[0m\u001b[1;32m    804\u001b[0m         \u001b[0;32mexcept\u001b[0m \u001b[0mzmq\u001b[0m\u001b[0;34m.\u001b[0m\u001b[0mZMQError\u001b[0m \u001b[0;32mas\u001b[0m \u001b[0me\u001b[0m\u001b[0;34m:\u001b[0m\u001b[0;34m\u001b[0m\u001b[0;34m\u001b[0m\u001b[0m\n",
            "\u001b[0;32m/usr/local/lib/python3.7/dist-packages/zmq/sugar/socket.py\u001b[0m in \u001b[0;36mrecv_multipart\u001b[0;34m(self, flags, copy, track)\u001b[0m\n\u001b[1;32m    624\u001b[0m         \"\"\"\n\u001b[0;32m--> 625\u001b[0;31m         \u001b[0mparts\u001b[0m \u001b[0;34m=\u001b[0m \u001b[0;34m[\u001b[0m\u001b[0mself\u001b[0m\u001b[0;34m.\u001b[0m\u001b[0mrecv\u001b[0m\u001b[0;34m(\u001b[0m\u001b[0mflags\u001b[0m\u001b[0;34m,\u001b[0m \u001b[0mcopy\u001b[0m\u001b[0;34m=\u001b[0m\u001b[0mcopy\u001b[0m\u001b[0;34m,\u001b[0m \u001b[0mtrack\u001b[0m\u001b[0;34m=\u001b[0m\u001b[0mtrack\u001b[0m\u001b[0;34m)\u001b[0m\u001b[0;34m]\u001b[0m\u001b[0;34m\u001b[0m\u001b[0;34m\u001b[0m\u001b[0m\n\u001b[0m\u001b[1;32m    626\u001b[0m         \u001b[0;31m# have first part already, only loop while more to receive\u001b[0m\u001b[0;34m\u001b[0m\u001b[0;34m\u001b[0m\u001b[0;34m\u001b[0m\u001b[0m\n",
            "\u001b[0;32mzmq/backend/cython/socket.pyx\u001b[0m in \u001b[0;36mzmq.backend.cython.socket.Socket.recv\u001b[0;34m()\u001b[0m\n",
            "\u001b[0;32mzmq/backend/cython/socket.pyx\u001b[0m in \u001b[0;36mzmq.backend.cython.socket.Socket.recv\u001b[0;34m()\u001b[0m\n",
            "\u001b[0;32mzmq/backend/cython/socket.pyx\u001b[0m in \u001b[0;36mzmq.backend.cython.socket._recv_copy\u001b[0;34m()\u001b[0m\n",
            "\u001b[0;32m/usr/local/lib/python3.7/dist-packages/zmq/backend/cython/checkrc.pxd\u001b[0m in \u001b[0;36mzmq.backend.cython.checkrc._check_rc\u001b[0;34m()\u001b[0m\n",
            "\u001b[0;31mKeyboardInterrupt\u001b[0m: ",
            "\nDuring handling of the above exception, another exception occurred:\n",
            "\u001b[0;31mKeyboardInterrupt\u001b[0m                         Traceback (most recent call last)",
            "\u001b[0;32m<ipython-input-28-5aa285c63453>\u001b[0m in \u001b[0;36m<module>\u001b[0;34m()\u001b[0m\n\u001b[1;32m      3\u001b[0m \u001b[0;32mwhile\u001b[0m \u001b[0mguess\u001b[0m \u001b[0;34m!=\u001b[0m \u001b[0msecret_guess\u001b[0m\u001b[0;34m:\u001b[0m\u001b[0;34m\u001b[0m\u001b[0;34m\u001b[0m\u001b[0m\n\u001b[1;32m      4\u001b[0m     \u001b[0;32mfor\u001b[0m \u001b[0mi\u001b[0m \u001b[0;32min\u001b[0m \u001b[0mrange\u001b[0m\u001b[0;34m(\u001b[0m\u001b[0;36m5\u001b[0m\u001b[0;34m)\u001b[0m\u001b[0;34m:\u001b[0m\u001b[0;34m\u001b[0m\u001b[0;34m\u001b[0m\u001b[0m\n\u001b[0;32m----> 5\u001b[0;31m       \u001b[0mguess\u001b[0m \u001b[0;34m=\u001b[0m \u001b[0minput\u001b[0m\u001b[0;34m(\u001b[0m\u001b[0;34m'Enter another guess: '\u001b[0m\u001b[0;34m)\u001b[0m\u001b[0;34m\u001b[0m\u001b[0;34m\u001b[0m\u001b[0m\n\u001b[0m\u001b[1;32m      6\u001b[0m     \u001b[0mprint\u001b[0m\u001b[0;34m(\u001b[0m\u001b[0;34m'Out of guesses, you lose'\u001b[0m\u001b[0;34m)\u001b[0m\u001b[0;34m\u001b[0m\u001b[0;34m\u001b[0m\u001b[0m\n\u001b[1;32m      7\u001b[0m \u001b[0;34m\u001b[0m\u001b[0m\n",
            "\u001b[0;32m/usr/local/lib/python3.7/dist-packages/ipykernel/kernelbase.py\u001b[0m in \u001b[0;36mraw_input\u001b[0;34m(self, prompt)\u001b[0m\n\u001b[1;32m    702\u001b[0m             \u001b[0mself\u001b[0m\u001b[0;34m.\u001b[0m\u001b[0m_parent_ident\u001b[0m\u001b[0;34m,\u001b[0m\u001b[0;34m\u001b[0m\u001b[0;34m\u001b[0m\u001b[0m\n\u001b[1;32m    703\u001b[0m             \u001b[0mself\u001b[0m\u001b[0;34m.\u001b[0m\u001b[0m_parent_header\u001b[0m\u001b[0;34m,\u001b[0m\u001b[0;34m\u001b[0m\u001b[0;34m\u001b[0m\u001b[0m\n\u001b[0;32m--> 704\u001b[0;31m             \u001b[0mpassword\u001b[0m\u001b[0;34m=\u001b[0m\u001b[0;32mFalse\u001b[0m\u001b[0;34m,\u001b[0m\u001b[0;34m\u001b[0m\u001b[0;34m\u001b[0m\u001b[0m\n\u001b[0m\u001b[1;32m    705\u001b[0m         )\n\u001b[1;32m    706\u001b[0m \u001b[0;34m\u001b[0m\u001b[0m\n",
            "\u001b[0;32m/usr/local/lib/python3.7/dist-packages/ipykernel/kernelbase.py\u001b[0m in \u001b[0;36m_input_request\u001b[0;34m(self, prompt, ident, parent, password)\u001b[0m\n\u001b[1;32m    732\u001b[0m             \u001b[0;32mexcept\u001b[0m \u001b[0mKeyboardInterrupt\u001b[0m\u001b[0;34m:\u001b[0m\u001b[0;34m\u001b[0m\u001b[0;34m\u001b[0m\u001b[0m\n\u001b[1;32m    733\u001b[0m                 \u001b[0;31m# re-raise KeyboardInterrupt, to truncate traceback\u001b[0m\u001b[0;34m\u001b[0m\u001b[0;34m\u001b[0m\u001b[0;34m\u001b[0m\u001b[0m\n\u001b[0;32m--> 734\u001b[0;31m                 \u001b[0;32mraise\u001b[0m \u001b[0mKeyboardInterrupt\u001b[0m\u001b[0;34m\u001b[0m\u001b[0;34m\u001b[0m\u001b[0m\n\u001b[0m\u001b[1;32m    735\u001b[0m             \u001b[0;32melse\u001b[0m\u001b[0;34m:\u001b[0m\u001b[0;34m\u001b[0m\u001b[0;34m\u001b[0m\u001b[0m\n\u001b[1;32m    736\u001b[0m                 \u001b[0;32mbreak\u001b[0m\u001b[0;34m\u001b[0m\u001b[0;34m\u001b[0m\u001b[0m\n",
            "\u001b[0;31mKeyboardInterrupt\u001b[0m: "
          ]
        }
      ]
    },
    {
      "cell_type": "code",
      "source": [
        "input = [12, 35, 9, 56, 24]\n",
        "first_number = input[0]\n",
        "last_number = input[-1]\n",
        "input[0] = last_number\n",
        "input[-1] = first_number\n",
        "print(input)"
      ],
      "metadata": {
        "colab": {
          "base_uri": "https://localhost:8080/"
        },
        "id": "OnuOCRrV_7A5",
        "outputId": "581dfdab-cf30-43a3-f65c-8847c963956a"
      },
      "execution_count": null,
      "outputs": [
        {
          "output_type": "stream",
          "name": "stdout",
          "text": [
            "[24, 35, 9, 56, 12]\n"
          ]
        }
      ]
    },
    {
      "cell_type": "code",
      "source": [
        "swap_Elements = [8, 9, 4, 0, 7, 23, 12]\n",
        "num1 = swap_Elements[0]\n",
        "num2 = swap_Elements[3]\n",
        "swap_Elements[0] = num2\n",
        "swap_Elements[3] = num1\n",
        "print(swap_Elements)"
      ],
      "metadata": {
        "colab": {
          "base_uri": "https://localhost:8080/"
        },
        "id": "sOADo1t1DeLK",
        "outputId": "8a52dc89-d59f-4ffe-805a-2e753987ed9f"
      },
      "execution_count": null,
      "outputs": [
        {
          "output_type": "stream",
          "name": "stdout",
          "text": [
            "[0, 9, 4, 8, 7, 23, 12]\n"
          ]
        }
      ]
    },
    {
      "cell_type": "code",
      "source": [
        "#ope\n",
        "swap_Elements = [8, 9, 4, 0, 7, 23, 12]\n",
        "\n",
        "num1,num2 = swap_Elements[0],swap_Elements[3]\n",
        "#done\n",
        "print(swap_Elements)"
      ],
      "metadata": {
        "id": "kGJMjOyYMlbZ"
      },
      "execution_count": null,
      "outputs": []
    },
    {
      "cell_type": "code",
      "source": [
        "stringList = ['Gfg', 'is', 'best', 'for', 'Geeks']\n",
        "for i in stringList:\n",
        "   replacedlist = i.replace('G', 'e') \n",
        "print(replacedlist)\n",
        "print(stringList)"
      ],
      "metadata": {
        "colab": {
          "base_uri": "https://localhost:8080/"
        },
        "id": "z0sT2frOJBnM",
        "outputId": "dd76ac79-de47-42a3-842b-1f530bd420a8"
      },
      "execution_count": null,
      "outputs": [
        {
          "output_type": "stream",
          "name": "stdout",
          "text": [
            "eeeks\n",
            "['Gfg', 'is', 'best', 'for', 'Geeks']\n"
          ]
        }
      ]
    },
    {
      "cell_type": "code",
      "source": [
        "stringList = ['Gfg', 'is', 'best', 'for', 'Geeks']\n",
        "newList=[]\n",
        "for i in range(len(stringList)):\n",
        "  #print(stringList[i])\n",
        "  replacedlist = stringList[i].replace('G', '*') \n",
        "  replacedlist = replacedlist.replace('e', 'G')\n",
        "  replacedlist = replacedlist.replace('*', 'e')\n",
        "  stringList[i]=replacedlist\n",
        "\n",
        "print(stringList)\n"
      ],
      "metadata": {
        "colab": {
          "base_uri": "https://localhost:8080/"
        },
        "id": "2eKR1WBPrmkR",
        "outputId": "bd5bffea-f76c-4531-f190-20ccc331e26b"
      },
      "execution_count": null,
      "outputs": [
        {
          "output_type": "stream",
          "name": "stdout",
          "text": [
            "['efg', 'is', 'bGst', 'for', 'eGGks']\n"
          ]
        }
      ]
    },
    {
      "cell_type": "code",
      "source": [
        "print('This program finds the maximum of two numbers')\n",
        "def max_num(num1, num2):\n",
        "  if num1 >= num2:\n",
        "    print(\"The maximum number is \" + str(num1))\n",
        "  else:\n",
        "    print(\"The maximum number is \" + str(num2))\n",
        "\n",
        "max_num(2, 4)"
      ],
      "metadata": {
        "colab": {
          "base_uri": "https://localhost:8080/"
        },
        "id": "e0O5iUyzuLby",
        "outputId": "d1a51c56-4a2c-4cea-e685-cf93d261fea2"
      },
      "execution_count": null,
      "outputs": [
        {
          "output_type": "stream",
          "name": "stdout",
          "text": [
            "This program finds the maximum of two numbers\n",
            "The maximum number is 4\n"
          ]
        }
      ]
    },
    {
      "cell_type": "code",
      "source": [
        "print('This program checks if an element exists in the list')\n",
        "listcheck = ['2', 'Hameed', 69, 96, 'Karen', 'Boobs', 1004, 4096]\n",
        "numcheck = input('Enter the element you want to check for in the list: ')\n",
        "for i in range(len(listcheck)):\n",
        "  if numcheck == listcheck[i]:\n",
        "    print('The element ' + numcheck + ' exists')\n",
        "  "
      ],
      "metadata": {
        "id": "73vx-FXyvkYH",
        "colab": {
          "base_uri": "https://localhost:8080/"
        },
        "outputId": "6ab39a89-c4f6-4a8a-9683-708064b0c2dd"
      },
      "execution_count": null,
      "outputs": [
        {
          "output_type": "stream",
          "name": "stdout",
          "text": [
            "This program checks if an element exists in the list\n",
            "Enter the element you want to check for in the list: 2\n",
            "The element 2 exists\n"
          ]
        }
      ]
    },
    {
      "cell_type": "code",
      "source": [
        "def ifExists(value, listValues):\n",
        "  for i in range(len(listValues)):\n",
        "    if value == listValues[i]:\n",
        "      return 'The element ' + str(value) + ' exists'\n",
        "    \n",
        "  return 'The element ' + str(value) + ' does not exist'\n",
        "\n",
        "\n",
        "\n",
        "\n",
        "listcheck = ['2', 'Hameed', '69', '96', 'Karen', 'Boobs', '1004', '4096']\n",
        "\n",
        "ifExists('1',listcheck)"
      ],
      "metadata": {
        "colab": {
          "base_uri": "https://localhost:8080/",
          "height": 37
        },
        "id": "n_VPY9xU_HwA",
        "outputId": "57ac9c64-640a-4b5a-ad9f-c6a64eb306ac"
      },
      "execution_count": null,
      "outputs": [
        {
          "output_type": "execute_result",
          "data": {
            "application/vnd.google.colaboratory.intrinsic+json": {
              "type": "string"
            },
            "text/plain": [
              "'The element 1 does not exist'"
            ]
          },
          "metadata": {},
          "execution_count": 89
        }
      ]
    },
    {
      "cell_type": "code",
      "source": [
        "def reverse_list(input):\n",
        "  print('This program reverses a list')\n",
        "  input.reverse()\n",
        "  return input\n",
        "reverse_list([104, 90, 33, 24, 18, 70, 3])\n"
      ],
      "metadata": {
        "id": "geA-WeC57jul",
        "colab": {
          "base_uri": "https://localhost:8080/"
        },
        "outputId": "02c3f84f-76b9-4dd5-a041-542828398cc2"
      },
      "execution_count": null,
      "outputs": [
        {
          "output_type": "stream",
          "name": "stdout",
          "text": [
            "This program reverses a list\n"
          ]
        },
        {
          "output_type": "execute_result",
          "data": {
            "text/plain": [
              "[3, 70, 18, 24, 33, 90, 104]"
            ]
          },
          "metadata": {},
          "execution_count": 15
        }
      ]
    },
    {
      "cell_type": "code",
      "source": [
        "def reverse_list_updated(array):\n",
        "  print(\"This program reverses a list\")\n",
        "  rr1 = 0\n",
        "  rr2 = len(array) - 1\n",
        "\n",
        "  while rr1 < rr2:\n",
        "    array[rr1], array[rr2] = array[rr2], array[rr1]\n",
        "    rr1 = rr1 + 1\n",
        "    rr2 = rr2 - 1\n",
        "  return array\n",
        "\n",
        "reverse_list_updated([104, 90, 33, 24, 18, 70, 3])"
      ],
      "metadata": {
        "colab": {
          "base_uri": "https://localhost:8080/"
        },
        "id": "svYRdrheRy7C",
        "outputId": "cc83ba8b-b161-47ee-fd2f-6ac7f0ec1721"
      },
      "execution_count": null,
      "outputs": [
        {
          "output_type": "stream",
          "name": "stdout",
          "text": [
            "This program reverses a list\n"
          ]
        },
        {
          "output_type": "execute_result",
          "data": {
            "text/plain": [
              "[3, 70, 18, 24, 33, 90, 104]"
            ]
          },
          "metadata": {},
          "execution_count": 1
        }
      ]
    },
    {
      "cell_type": "code",
      "source": [
        "def count_element(array, x):\n",
        "  print(\"This program counts the number of times an elements occurs in a list\")\n",
        "  count = 0\n",
        "  for i in array:\n",
        "    if i == x:\n",
        "      count = count + 1\n",
        "  print(str(x) + ' was found ' + str(count) + ' times')\n",
        "\n",
        "count_element([10, 2, 4, 5, 10, 23, 10], 8)\n",
        "print('This is the first code Tomisin has written without getting any error...yayyy!!!')"
      ],
      "metadata": {
        "id": "pE7ttOrzH0jc",
        "colab": {
          "base_uri": "https://localhost:8080/"
        },
        "outputId": "deb304ab-fdea-4362-9f95-f27f5129c57c"
      },
      "execution_count": null,
      "outputs": [
        {
          "output_type": "stream",
          "name": "stdout",
          "text": [
            "This program counts the number of times an elements occurs in a list\n",
            "8 was found 0 times\n",
            "This is the first code Tomisin has written without getting any error...yayyy!!!\n"
          ]
        }
      ]
    },
    {
      "cell_type": "code",
      "source": [
        "def sum_and_average(array):\n",
        "  print(\"This program finds the sum and average of all the elements in a list\")\n",
        "  x = 0\n",
        "  sum = 0\n",
        "  for i in array:\n",
        "    sum = sum + array[x]\n",
        "    x = x + 1\n",
        "  average = sum / len(array)\n",
        "\n",
        "  print(\"The sum of the numbers in the list is \" + str(sum))\n",
        "  print(\"The average of the numbers in the list is \" + str(average))\n",
        "sum_and_average([3, 70, 18, 24, 33, 90, 104])"
      ],
      "metadata": {
        "id": "NtJ92ZZMKwoy",
        "colab": {
          "base_uri": "https://localhost:8080/"
        },
        "outputId": "95f43394-ae93-4b4c-cfd0-c0e88b13ad65"
      },
      "execution_count": null,
      "outputs": [
        {
          "output_type": "stream",
          "name": "stdout",
          "text": [
            "This program finds the sum and average of all the elements in a list\n",
            "The sum of the numbers in the list is 342\n",
            "The average of the numbers in the list is 48.857142857142854\n"
          ]
        }
      ]
    },
    {
      "cell_type": "code",
      "source": [
        "#Opeyemi Reviewed\n",
        "def sum_and_average(array):\n",
        "  print(\"This program finds the sum and average of all the elements in a list\")\n",
        "  sum = 0\n",
        "  for i in array:\n",
        "    sum = sum + i\n",
        "  average = sum / len(array)\n",
        "  print(\"The sum of the numbers in the list is \" + str(sum))\n",
        "  print(\"The average of the numbers in the list is \" + str(average))\n",
        "sum_and_average([3, 70, 18, 24, 33, 90, 104])"
      ],
      "metadata": {
        "colab": {
          "base_uri": "https://localhost:8080/"
        },
        "id": "ik6haBpeY0RM",
        "outputId": "421a0976-0de0-4622-e5ce-b816528986a5"
      },
      "execution_count": null,
      "outputs": [
        {
          "output_type": "stream",
          "name": "stdout",
          "text": [
            "This program finds the sum and average of all the elements in a list\n",
            "The sum of the numbers in the list is 342\n",
            "The average of the numbers in the list is 48.857142857142854\n"
          ]
        }
      ]
    },
    {
      "cell_type": "code",
      "source": [
        "def multiply(array):\n",
        "  print(\"This program multiplies all the elements in a list\")\n",
        "  x = 0\n",
        "  mul = 1\n",
        "  for i in array:\n",
        "    mul = mul * array[x]\n",
        "    x = x + 1\n",
        "  print(\"The multiplication of all the numbers in the list is \" + str(mul))\n",
        "multiply([3, 2, 4])"
      ],
      "metadata": {
        "colab": {
          "base_uri": "https://localhost:8080/"
        },
        "id": "ZYFH8_WOTL13",
        "outputId": "f118a78d-4aff-401c-be59-bf6c6e20acce"
      },
      "execution_count": null,
      "outputs": [
        {
          "output_type": "stream",
          "name": "stdout",
          "text": [
            "This program multiplies all the elements in a list\n",
            "The multiplication of all the numbers in the list is 24\n"
          ]
        }
      ]
    },
    {
      "cell_type": "code",
      "source": [
        "#Opeyemi Reviewed\n",
        "def multiply(array):\n",
        "  print(\"This program multiplies all the elements in a list\")\n",
        "  mul = 1\n",
        "  for i in array:\n",
        "    mul = mul * i\n",
        "  print(\"The multiplication of all the numbers in the list is \" + str(mul))\n",
        "multiply([3, 70, 18, 24, 33, 90, 104])"
      ],
      "metadata": {
        "colab": {
          "base_uri": "https://localhost:8080/"
        },
        "id": "AKxao4gNZ1_8",
        "outputId": "bc0186d7-f739-4d72-f774-1780c1310b7a"
      },
      "execution_count": null,
      "outputs": [
        {
          "output_type": "stream",
          "name": "stdout",
          "text": [
            "This program multiplies all the elements in a list\n",
            "The multiplication of all the numbers in the list is 28021593600\n"
          ]
        }
      ]
    },
    {
      "cell_type": "code",
      "source": [
        "print(\"Nahh...I'm good and I am so grateful for Opeyemi!\")"
      ],
      "metadata": {
        "id": "pMp5WAUsUTEQ"
      },
      "execution_count": null,
      "outputs": []
    },
    {
      "cell_type": "code",
      "source": [
        "def large_num(array):\n",
        "  print(\"This program finds the largest number in the list\")\n",
        "  i = 0\n",
        "  large = 0\n",
        "  while i < len(array):\n",
        "    if array[i] >= array[i-1]:\n",
        "      large = array[i]\n",
        "    else:\n",
        "      large = array[i-1]\n",
        "    i = i + 1\n",
        "  print(\"The largest number is \" + str(large)) \n",
        "large_num([120, 70, 18, 24, 150, 33, 90, 104])"
      ],
      "metadata": {
        "id": "W-5LXksBUb8f",
        "colab": {
          "base_uri": "https://localhost:8080/"
        },
        "outputId": "1da4935b-66bd-4450-b531-56ea5e3b4c67"
      },
      "execution_count": null,
      "outputs": [
        {
          "output_type": "stream",
          "name": "stdout",
          "text": [
            "This program finds the largest number in the list\n",
            "The largest number is 104\n"
          ]
        }
      ]
    },
    {
      "cell_type": "code",
      "source": [
        "#Opeyemi Reviewed\n",
        "def large_num(array):\n",
        "  print(\"This program finds the largest number in the list\")\n",
        "  i = 0\n",
        "  large = 0\n",
        "  while i < len(array):\n",
        "    if array[i] >= large:\n",
        "      large = array[i]\n",
        "    i = i + 1\n",
        "  print(\"The largest number is \" + str(large)) \n",
        "large_num([1200, 70, 18, 24, 1800, 33, 90, 1040])"
      ],
      "metadata": {
        "colab": {
          "base_uri": "https://localhost:8080/"
        },
        "id": "NbVKNJudj9CR",
        "outputId": "0ad87990-4182-45c4-99b0-f6eb53df250a"
      },
      "execution_count": null,
      "outputs": [
        {
          "output_type": "stream",
          "name": "stdout",
          "text": [
            "This program finds the largest number in the list\n",
            "The largest number is 1800\n"
          ]
        }
      ]
    },
    {
      "cell_type": "code",
      "source": [
        "def second_largest(array):\n",
        "  print(\"This program finds the second largest number in the list\")\n",
        "  i = 0\n",
        "  large = 0\n",
        "  while i < len(array):\n",
        "    if array[i] >= large:\n",
        "      large = array[i]\n",
        "    i = i + 1\n",
        "  second_large = 0\n",
        "  array.remove(large)\n",
        "  i=0\n",
        "  while i < len(array):\n",
        "    if array[i] >= second_large:\n",
        "      second_large = array[i]\n",
        "    i = i + 1\n",
        "  print(str(large))\n",
        "  print(str(second_large))\n",
        "second_largest([200, 1500, 18, 24, 1800, 33, 90, 1040])\n"
      ],
      "metadata": {
        "colab": {
          "base_uri": "https://localhost:8080/"
        },
        "id": "S-JvgpSDnmPa",
        "outputId": "7f49fc81-757b-4a0b-b3e2-1fbbbdf38777"
      },
      "execution_count": null,
      "outputs": [
        {
          "output_type": "stream",
          "name": "stdout",
          "text": [
            "This program finds the second largest number in the list\n",
            "1800\n",
            "1500\n"
          ]
        }
      ]
    },
    {
      "cell_type": "code",
      "source": [
        "def second_largest(array):\n",
        "    print(\"This program finds the second largest number in the list\")\n",
        "    i = 0\n",
        "    large = 0\n",
        "    second_large = 0\n",
        "    while i < len(array):\n",
        "        if array[i] >= large:\n",
        "            second_large=large\n",
        "            large = array[i]\n",
        "        elif array[i]>second_large:\n",
        "            second_large=array[i]\n",
        "        i = i + 1\n",
        "    print(\"The second largest number in the list is \" + str(second_large))\n",
        "second_largest([200, 1800, 18, 24, 1600, 33, 90, 1040])\n"
      ],
      "metadata": {
        "id": "e5v1PmE8tXuf",
        "colab": {
          "base_uri": "https://localhost:8080/"
        },
        "outputId": "66e966a4-f63e-4386-cb81-298cc899fa0e"
      },
      "execution_count": null,
      "outputs": [
        {
          "output_type": "stream",
          "name": "stdout",
          "text": [
            "This program finds the second largest number in the list\n",
            "The second largest number in the list is 1600\n"
          ]
        }
      ]
    },
    {
      "cell_type": "code",
      "source": [
        "def even_numbers(arr):\n",
        "  print(\"This program prints all the even numbers in a list\")\n",
        "  for i in arr:\n",
        "    if (i % 2) == 0:\n",
        "      print (i)\n",
        "even_numbers([200, 67, 99, 24, 17, 33, 90, 1040])"
      ],
      "metadata": {
        "id": "9hK2UqM4wE9i",
        "colab": {
          "base_uri": "https://localhost:8080/"
        },
        "outputId": "ee0e55bf-5ccb-4129-b057-eec2127d6d06"
      },
      "execution_count": null,
      "outputs": [
        {
          "output_type": "stream",
          "name": "stdout",
          "text": [
            "This program prints all the even numbers in a list\n",
            "200\n",
            "24\n",
            "90\n",
            "1040\n"
          ]
        }
      ]
    },
    {
      "cell_type": "code",
      "source": [
        "def odd_numbers(arr):\n",
        "  print(\"This program prints all the odd numbers in a list\")\n",
        "  for i in arr:\n",
        "    if (i % 2) != 0:\n",
        "      print (i)\n",
        "odd_numbers([200, 67, 99, 24, 17, 33, 90, 1040])"
      ],
      "metadata": {
        "colab": {
          "base_uri": "https://localhost:8080/"
        },
        "id": "RiD0aDZr8BzB",
        "outputId": "8756502c-b6f2-4c9a-d2e5-f3ff05389c39"
      },
      "execution_count": null,
      "outputs": [
        {
          "output_type": "stream",
          "name": "stdout",
          "text": [
            "This program prints all the odd numbers in a list\n",
            "67\n",
            "99\n",
            "17\n",
            "33\n"
          ]
        }
      ]
    },
    {
      "cell_type": "code",
      "source": [
        "def odd_num_range(arr, x, y):\n",
        "  print(\"This program prints all the odd numbers in a given range\")\n",
        "  for i in arr[x:y+1]:\n",
        "    if (i % 2) != 0:\n",
        "      print(i)\n",
        "odd_num_range([200, 67, 99, 24, 17, 33, 90, 1040], 2, 5)"
      ],
      "metadata": {
        "colab": {
          "base_uri": "https://localhost:8080/"
        },
        "id": "zMyrzt769ZXi",
        "outputId": "41fc5bcd-b512-432f-f541-220d50c56f86"
      },
      "execution_count": null,
      "outputs": [
        {
          "output_type": "stream",
          "name": "stdout",
          "text": [
            "This program prints all the odd numbers in a given range\n",
            "99\n",
            "17\n",
            "33\n"
          ]
        }
      ]
    },
    {
      "cell_type": "code",
      "source": [
        "def count_numbers(arr):\n",
        "  print(\"This program counts all the even and odd numbers in a given list\")\n",
        "  odd_count = 0\n",
        "  even_count = 0\n",
        "  for i in arr:\n",
        "    if (i % 2) == 0:\n",
        "      even_count = even_count + 1\n",
        "    elif (i % 2) != 0:\n",
        "      odd_count = odd_count + 1\n",
        "  print('The number of odd numbers in this list is ' + str(odd_count))\n",
        "  print('The number of even numbers in this list is ' + str(even_count))\n",
        "count_numbers([200, 67, 99, 24, 17, 33, 90, 1040, 45, 21, 7])"
      ],
      "metadata": {
        "colab": {
          "base_uri": "https://localhost:8080/"
        },
        "id": "bkNgkvRq-4Nv",
        "outputId": "baf4ac9a-cbb6-4356-ae94-8f67d0ef5527"
      },
      "execution_count": null,
      "outputs": [
        {
          "output_type": "stream",
          "name": "stdout",
          "text": [
            "This program counts all the even and odd numbers in a given list\n",
            "The number of odd numbers in this list is 7\n",
            "The number of even numbers in this list is 4\n"
          ]
        }
      ]
    },
    {
      "cell_type": "code",
      "source": [
        "def positive_num(arr):\n",
        "  print(\"This program prints all the positive numbers in a list\")\n",
        "  for i in arr:\n",
        "    if i >= 0:\n",
        "      print (i)\n",
        "positive_num([12, -7, 5, 64, -14])"
      ],
      "metadata": {
        "colab": {
          "base_uri": "https://localhost:8080/"
        },
        "id": "ZlYGFb9mgvAh",
        "outputId": "2854b3c5-e43b-4625-dc89-8d57808f81b5"
      },
      "execution_count": null,
      "outputs": [
        {
          "output_type": "stream",
          "name": "stdout",
          "text": [
            "This program prints all the positive numbers in a list\n",
            "12\n",
            "5\n",
            "64\n"
          ]
        }
      ]
    },
    {
      "cell_type": "code",
      "source": [
        "def pos_neg_numbers(arr):\n",
        "  print(\"This program counts all positive and negative numbers in a list\")\n",
        "  pos_num = 0\n",
        "  neg_num = 0\n",
        "  for i in arr:\n",
        "    if i >= 0:\n",
        "      pos_num = pos_num + 1\n",
        "    elif i < 0:\n",
        "      neg_num = neg_num + 1\n",
        "  print('The number of postive numbers in this list is ' + str(pos_num))\n",
        "  print('The number of negative numbers in this list is ' + str(neg_num))\n",
        "pos_neg_numbers([12, -7, 5, 64, -14, 0, -8, 7])"
      ],
      "metadata": {
        "colab": {
          "base_uri": "https://localhost:8080/"
        },
        "id": "xEX8Z5yOhpKL",
        "outputId": "38fdd392-e344-4b82-d217-3656424067b5"
      },
      "execution_count": null,
      "outputs": [
        {
          "output_type": "stream",
          "name": "stdout",
          "text": [
            "This program counts all positive and negative numbers in a list\n",
            "The number of postive numbers in this list is 5\n",
            "The number of negative numbers in this list is 3\n"
          ]
        }
      ]
    },
    {
      "cell_type": "code",
      "source": [
        "def reverse_string(string):\n",
        "  print('This program reverses all the characters in a string')\n",
        "  parts = string.split()\n",
        "  a = 0\n",
        "  b = len(parts) - 1\n",
        "  while a <= b:\n",
        "    parts[a], parts[b] = parts[b], parts[a]\n",
        "    a = a + 1\n",
        "    b = b - 1\n",
        "  return parts    \n",
        "\n",
        "reverse_string('This program reverses all the characters in a string')"
      ],
      "metadata": {
        "id": "Is9d4Lf9jMNk",
        "colab": {
          "base_uri": "https://localhost:8080/"
        },
        "outputId": "503096c0-8189-46a8-95aa-caf126d58d30"
      },
      "execution_count": null,
      "outputs": [
        {
          "output_type": "stream",
          "name": "stdout",
          "text": [
            "This program reverses all the characters in a string\n"
          ]
        },
        {
          "output_type": "execute_result",
          "data": {
            "text/plain": [
              "['string',\n",
              " 'a',\n",
              " 'in',\n",
              " 'characters',\n",
              " 'the',\n",
              " 'all',\n",
              " 'reverses',\n",
              " 'program',\n",
              " 'This']"
            ]
          },
          "metadata": {},
          "execution_count": 3
        }
      ]
    },
    {
      "cell_type": "code",
      "source": [
        "def even_length(string):\n",
        "  print('This program finds all the characters with even numbers in a string')\n",
        "  parts = string.split()\n",
        "  i = 0\n",
        "  while i < len(parts):\n",
        "    if len(parts[i]) % 2 == 0:\n",
        "      print(parts[i])\n",
        "    i = i + 1\n",
        "\n",
        "\n",
        "even_length('This program reverses all the characters in a string')"
      ],
      "metadata": {
        "colab": {
          "base_uri": "https://localhost:8080/"
        },
        "id": "CasplqWpigVZ",
        "outputId": "0138f898-d454-447a-a4ac-9f6158c4f47d"
      },
      "execution_count": null,
      "outputs": [
        {
          "output_type": "stream",
          "name": "stdout",
          "text": [
            "This program finds all the characters with even numbers in a string\n",
            "This\n",
            "reverses\n",
            "characters\n",
            "in\n",
            "string\n"
          ]
        }
      ]
    },
    {
      "cell_type": "code",
      "source": [
        "def cap_firstwords(words):\n",
        "  print('This program capitalizes the first and last letters of each word in a string')\n",
        "  arr_words = words.split()\n",
        "  i = 0\n",
        "  while i < len(arr_words):\n",
        "    arr_words[i] = arr_words[i].capitalize()\n",
        "    i = i + 1\n",
        "  return arr_words\n",
        "cap_firstwords('this program capitalizes the first and last letters of each word in a string')"
      ],
      "metadata": {
        "colab": {
          "base_uri": "https://localhost:8080/"
        },
        "id": "sYLBtZYykaxE",
        "outputId": "145356b7-818c-4cbc-ca4e-f70ae1c2697a"
      },
      "execution_count": null,
      "outputs": [
        {
          "output_type": "stream",
          "name": "stdout",
          "text": [
            "This program capitalizes the first and last letters of each word in a string\n"
          ]
        },
        {
          "output_type": "execute_result",
          "data": {
            "text/plain": [
              "['This',\n",
              " 'Program',\n",
              " 'Capitalizes',\n",
              " 'The',\n",
              " 'First',\n",
              " 'And',\n",
              " 'Last',\n",
              " 'Letters',\n",
              " 'Of',\n",
              " 'Each',\n",
              " 'Word',\n",
              " 'In',\n",
              " 'A',\n",
              " 'String']"
            ]
          },
          "metadata": {},
          "execution_count": 11
        }
      ]
    },
    {
      "cell_type": "code",
      "source": [
        "def print_words(str):\n",
        "  for i in str:\n",
        "    i = i.capitalize()\n",
        "    print(i)\n",
        "print_words(\"Opeyemi loves Tomisin\")"
      ],
      "metadata": {
        "colab": {
          "base_uri": "https://localhost:8080/"
        },
        "id": "dL00N3YDB04a",
        "outputId": "9111cce9-9526-4b66-8a18-00ad6d1996b4"
      },
      "execution_count": null,
      "outputs": [
        {
          "output_type": "stream",
          "name": "stdout",
          "text": [
            "O\n",
            "P\n",
            "E\n",
            "Y\n",
            "E\n",
            "M\n",
            "I\n",
            " \n",
            "L\n",
            "O\n",
            "V\n",
            "E\n",
            "S\n",
            " \n",
            "T\n",
            "O\n",
            "M\n",
            "I\n",
            "S\n",
            "I\n",
            "N\n"
          ]
        }
      ]
    },
    {
      "cell_type": "code",
      "source": [
        "#ANALYSIS OF ALGORITHM\n",
        "\n",
        "\n",
        "\n",
        "o(n)==\n",
        "o(n/2)\n",
        "o(2n)\n",
        "o(n**2)\n",
        "\n",
        "\n",
        "\n",
        "array= [1, 5, 9, 4, 6, 8, 2, 5]"
      ],
      "metadata": {
        "id": "C0wARWWxpojc"
      },
      "execution_count": null,
      "outputs": []
    },
    {
      "cell_type": "code",
      "source": [
        "array[3]    ==> o(1) constant operation"
      ],
      "metadata": {
        "colab": {
          "base_uri": "https://localhost:8080/"
        },
        "id": "soMoPKrdpqjP",
        "outputId": "9525eb7a-7f10-4a1e-d919-afb0bdecffe5"
      },
      "execution_count": null,
      "outputs": [
        {
          "output_type": "execute_result",
          "data": {
            "text/plain": [
              "4"
            ]
          },
          "metadata": {},
          "execution_count": 2
        }
      ]
    },
    {
      "cell_type": "code",
      "source": [
        "for i in array:\n",
        "    for j in array:\n",
        "        print(i+j)\n",
        "    #o(n)"
      ],
      "metadata": {
        "colab": {
          "base_uri": "https://localhost:8080/"
        },
        "id": "l4ITxBuepu4S",
        "outputId": "1ececcf6-faa8-42b7-8ce6-a53e4dbda421"
      },
      "execution_count": null,
      "outputs": [
        {
          "output_type": "stream",
          "name": "stdout",
          "text": [
            "2\n",
            "6\n",
            "10\n",
            "5\n",
            "7\n",
            "9\n",
            "3\n",
            "6\n",
            "6\n",
            "10\n",
            "14\n",
            "9\n",
            "11\n",
            "13\n",
            "7\n",
            "10\n",
            "10\n",
            "14\n",
            "18\n",
            "13\n",
            "15\n",
            "17\n",
            "11\n",
            "14\n",
            "5\n",
            "9\n",
            "13\n",
            "8\n",
            "10\n",
            "12\n",
            "6\n",
            "9\n",
            "7\n",
            "11\n",
            "15\n",
            "10\n",
            "12\n",
            "14\n",
            "8\n",
            "11\n",
            "9\n",
            "13\n",
            "17\n",
            "12\n",
            "14\n",
            "16\n",
            "10\n",
            "13\n",
            "3\n",
            "7\n",
            "11\n",
            "6\n",
            "8\n",
            "10\n",
            "4\n",
            "7\n",
            "6\n",
            "10\n",
            "14\n",
            "9\n",
            "11\n",
            "13\n",
            "7\n",
            "10\n"
          ]
        }
      ]
    },
    {
      "cell_type": "code",
      "source": [
        "while "
      ],
      "metadata": {
        "id": "eSIvyBm-qTQD"
      },
      "execution_count": null,
      "outputs": []
    }
  ]
}