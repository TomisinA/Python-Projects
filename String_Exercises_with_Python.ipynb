{
  "nbformat": 4,
  "nbformat_minor": 0,
  "metadata": {
    "colab": {
      "provenance": [],
      "authorship_tag": "ABX9TyMfj3ffM2e93/4WGCpgm1VU",
      "include_colab_link": true
    },
    "kernelspec": {
      "name": "python3",
      "display_name": "Python 3"
    },
    "language_info": {
      "name": "python"
    }
  },
  "cells": [
    {
      "cell_type": "markdown",
      "metadata": {
        "id": "view-in-github",
        "colab_type": "text"
      },
      "source": [
        "<a href=\"https://colab.research.google.com/github/TomisinA/Python-Projects/blob/main/String_Exercises_with_Python.ipynb\" target=\"_parent\"><img src=\"https://colab.research.google.com/assets/colab-badge.svg\" alt=\"Open In Colab\"/></a>"
      ]
    },
    {
      "cell_type": "code",
      "execution_count": null,
      "metadata": {
        "colab": {
          "base_uri": "https://localhost:8080/"
        },
        "id": "EczxWjcMZZhK",
        "outputId": "f34f4fd7-f726-49cb-9196-62264f60dfd9"
      },
      "outputs": [
        {
          "output_type": "stream",
          "name": "stdout",
          "text": [
            "This program reverses all the characters in a string\n"
          ]
        },
        {
          "output_type": "execute_result",
          "data": {
            "text/plain": [
              "['string',\n",
              " 'a',\n",
              " 'in',\n",
              " 'characters',\n",
              " 'the',\n",
              " 'all',\n",
              " 'reverses',\n",
              " 'program',\n",
              " 'This']"
            ]
          },
          "metadata": {},
          "execution_count": 16
        }
      ],
      "source": [
        "def reverse_string(string):\n",
        "  print('This program reverses all the characters in a string')\n",
        "  parts = string.split()\n",
        "  a = 0\n",
        "  b = len(parts) - 1\n",
        "  while a < b:\n",
        "    parts[a], parts[b] = parts[b], parts[a]\n",
        "    a = a + 1\n",
        "    b = b - 1\n",
        "  return parts    \n",
        "\n",
        "reverse_string('This program reverses all the characters in a string')\n"
      ]
    },
    {
      "cell_type": "code",
      "source": [
        "def even_length(string):\n",
        "  print('This program finds all the characters with even numbers in a string')\n",
        "  parts = string.split()\n",
        "  i = 0\n",
        "  while i < len(parts):\n",
        "    if len(parts[i]) % 2 == 0:\n",
        "      print(parts[i])\n",
        "    i = i + 1\n",
        "\n",
        "\n",
        "even_length('This program reverses all the characters in a string')"
      ],
      "metadata": {
        "colab": {
          "base_uri": "https://localhost:8080/"
        },
        "id": "YXwVm7RacnZ_",
        "outputId": "89d3ea1f-c316-4d98-ccda-6f3e11260c75"
      },
      "execution_count": null,
      "outputs": [
        {
          "output_type": "stream",
          "name": "stdout",
          "text": [
            "This program finds all the characters with even numbers in a string\n",
            "This\n",
            "reverses\n",
            "characters\n",
            "in\n",
            "string\n"
          ]
        }
      ]
    },
    {
      "cell_type": "code",
      "source": [],
      "metadata": {
        "colab": {
          "base_uri": "https://localhost:8080/"
        },
        "id": "a7ltkwwydNeE",
        "outputId": "a090165a-f7db-4ed4-a3bf-049d44781137"
      },
      "execution_count": null,
      "outputs": [
        {
          "output_type": "stream",
          "name": "stdout",
          "text": [
            "52\n"
          ]
        }
      ]
    }
  ]
}