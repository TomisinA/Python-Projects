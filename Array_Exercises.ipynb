{
  "nbformat": 4,
  "nbformat_minor": 0,
  "metadata": {
    "colab": {
      "provenance": [],
      "authorship_tag": "ABX9TyOuEjFACJDNrXm1PXFiBqpo",
      "include_colab_link": true
    },
    "kernelspec": {
      "name": "python3",
      "display_name": "Python 3"
    },
    "language_info": {
      "name": "python"
    }
  },
  "cells": [
    {
      "cell_type": "markdown",
      "metadata": {
        "id": "view-in-github",
        "colab_type": "text"
      },
      "source": [
        "<a href=\"https://colab.research.google.com/github/TomisinA/Python-Projects/blob/main/Array_Exercises.ipynb\" target=\"_parent\"><img src=\"https://colab.research.google.com/assets/colab-badge.svg\" alt=\"Open In Colab\"/></a>"
      ]
    },
    {
      "cell_type": "code",
      "execution_count": null,
      "metadata": {
        "colab": {
          "base_uri": "https://localhost:8080/"
        },
        "id": "Mzg4-MU5uxZj",
        "outputId": "08f6d2a8-2ce8-4a9c-cdbd-6dabb05a190c"
      },
      "outputs": [
        {
          "output_type": "stream",
          "name": "stdout",
          "text": [
            "This searches for an element in an array and returns the index\n"
          ]
        }
      ],
      "source": [
        "#Search an element in an array. (Time complexity of big O of n because it can either traverse the whole array or just once with is theta 1 if the element being searched is at index 0)\n",
        "print('This searches for an element in an array and returns the index')\n",
        "def search(arr, x):\n",
        "  for i in range(len(arr)):\n",
        "    if arr[i] == x:\n",
        "      print(i)\n",
        "\n",
        "search([2, 5, 69, 109, 2009], 200)"
      ]
    },
    {
      "cell_type": "code",
      "source": [
        "#Delete an element in an array\n",
        "print('This deletes elements in an array')\n",
        "def insert_arr(array, y):\n",
        "  for i in range(len(array)):\n",
        "    array[i]= array[i+1]\n",
        "    print(array)\n",
        "insert_arr([22, 4, 9, 11, 108, 70], 2)\n"
      ],
      "metadata": {
        "colab": {
          "base_uri": "https://localhost:8080/",
          "height": 419
        },
        "id": "1ni49TDI9mWA",
        "outputId": "30a8f868-4d10-4c39-955c-802c3993cf7a"
      },
      "execution_count": null,
      "outputs": [
        {
          "output_type": "stream",
          "name": "stdout",
          "text": [
            "This deletes elements in an array\n",
            "[4, 4, 9, 11, 108, 70]\n",
            "[4, 9, 9, 11, 108, 70]\n",
            "[4, 9, 11, 11, 108, 70]\n",
            "[4, 9, 11, 108, 108, 70]\n",
            "[4, 9, 11, 108, 70, 70]\n"
          ]
        },
        {
          "output_type": "error",
          "ename": "IndexError",
          "evalue": "ignored",
          "traceback": [
            "\u001b[0;31m---------------------------------------------------------------------------\u001b[0m",
            "\u001b[0;31mIndexError\u001b[0m                                Traceback (most recent call last)",
            "\u001b[0;32m<ipython-input-36-217064908da7>\u001b[0m in \u001b[0;36m<module>\u001b[0;34m()\u001b[0m\n\u001b[1;32m      5\u001b[0m     \u001b[0marray\u001b[0m\u001b[0;34m[\u001b[0m\u001b[0mi\u001b[0m\u001b[0;34m]\u001b[0m\u001b[0;34m=\u001b[0m \u001b[0marray\u001b[0m\u001b[0;34m[\u001b[0m\u001b[0mi\u001b[0m\u001b[0;34m+\u001b[0m\u001b[0;36m1\u001b[0m\u001b[0;34m]\u001b[0m\u001b[0;34m\u001b[0m\u001b[0;34m\u001b[0m\u001b[0m\n\u001b[1;32m      6\u001b[0m     \u001b[0mprint\u001b[0m\u001b[0;34m(\u001b[0m\u001b[0marray\u001b[0m\u001b[0;34m)\u001b[0m\u001b[0;34m\u001b[0m\u001b[0;34m\u001b[0m\u001b[0m\n\u001b[0;32m----> 7\u001b[0;31m \u001b[0minsert_arr\u001b[0m\u001b[0;34m(\u001b[0m\u001b[0;34m[\u001b[0m\u001b[0;36m22\u001b[0m\u001b[0;34m,\u001b[0m \u001b[0;36m4\u001b[0m\u001b[0;34m,\u001b[0m \u001b[0;36m9\u001b[0m\u001b[0;34m,\u001b[0m \u001b[0;36m11\u001b[0m\u001b[0;34m,\u001b[0m \u001b[0;36m108\u001b[0m\u001b[0;34m,\u001b[0m \u001b[0;36m70\u001b[0m\u001b[0;34m]\u001b[0m\u001b[0;34m,\u001b[0m \u001b[0;36m2\u001b[0m\u001b[0;34m)\u001b[0m\u001b[0;34m\u001b[0m\u001b[0;34m\u001b[0m\u001b[0m\n\u001b[0m",
            "\u001b[0;32m<ipython-input-36-217064908da7>\u001b[0m in \u001b[0;36minsert_arr\u001b[0;34m(array, y)\u001b[0m\n\u001b[1;32m      3\u001b[0m \u001b[0;32mdef\u001b[0m \u001b[0minsert_arr\u001b[0m\u001b[0;34m(\u001b[0m\u001b[0marray\u001b[0m\u001b[0;34m,\u001b[0m \u001b[0my\u001b[0m\u001b[0;34m)\u001b[0m\u001b[0;34m:\u001b[0m\u001b[0;34m\u001b[0m\u001b[0;34m\u001b[0m\u001b[0m\n\u001b[1;32m      4\u001b[0m   \u001b[0;32mfor\u001b[0m \u001b[0mi\u001b[0m \u001b[0;32min\u001b[0m \u001b[0mrange\u001b[0m\u001b[0;34m(\u001b[0m\u001b[0mlen\u001b[0m\u001b[0;34m(\u001b[0m\u001b[0marray\u001b[0m\u001b[0;34m)\u001b[0m\u001b[0;34m)\u001b[0m\u001b[0;34m:\u001b[0m\u001b[0;34m\u001b[0m\u001b[0;34m\u001b[0m\u001b[0m\n\u001b[0;32m----> 5\u001b[0;31m     \u001b[0marray\u001b[0m\u001b[0;34m[\u001b[0m\u001b[0mi\u001b[0m\u001b[0;34m]\u001b[0m\u001b[0;34m=\u001b[0m \u001b[0marray\u001b[0m\u001b[0;34m[\u001b[0m\u001b[0mi\u001b[0m\u001b[0;34m+\u001b[0m\u001b[0;36m1\u001b[0m\u001b[0;34m]\u001b[0m\u001b[0;34m\u001b[0m\u001b[0;34m\u001b[0m\u001b[0m\n\u001b[0m\u001b[1;32m      6\u001b[0m     \u001b[0mprint\u001b[0m\u001b[0;34m(\u001b[0m\u001b[0marray\u001b[0m\u001b[0;34m)\u001b[0m\u001b[0;34m\u001b[0m\u001b[0;34m\u001b[0m\u001b[0m\n\u001b[1;32m      7\u001b[0m \u001b[0minsert_arr\u001b[0m\u001b[0;34m(\u001b[0m\u001b[0;34m[\u001b[0m\u001b[0;36m22\u001b[0m\u001b[0;34m,\u001b[0m \u001b[0;36m4\u001b[0m\u001b[0;34m,\u001b[0m \u001b[0;36m9\u001b[0m\u001b[0;34m,\u001b[0m \u001b[0;36m11\u001b[0m\u001b[0;34m,\u001b[0m \u001b[0;36m108\u001b[0m\u001b[0;34m,\u001b[0m \u001b[0;36m70\u001b[0m\u001b[0;34m]\u001b[0m\u001b[0;34m,\u001b[0m \u001b[0;36m2\u001b[0m\u001b[0;34m)\u001b[0m\u001b[0;34m\u001b[0m\u001b[0;34m\u001b[0m\u001b[0m\n",
            "\u001b[0;31mIndexError\u001b[0m: list index out of range"
          ]
        }
      ]
    },
    {
      "cell_type": "code",
      "source": [
        "#Largest Element (big O of n)\n",
        "print('This finds the largest element in an array')\n",
        "def lafarge(my_list):\n",
        "  large = 0\n",
        "  for i in range(len(my_list)):\n",
        "    if my_list[i] > my_list[large]:\n",
        "      large = i\n",
        "  print(large)\n",
        "lafarge([22, 4, 9, 11, 108, 70])"
      ],
      "metadata": {
        "colab": {
          "base_uri": "https://localhost:8080/"
        },
        "id": "NP2f9EJC_OI5",
        "outputId": "1bb455b2-62c7-4dbe-c48e-eb965a34dac3"
      },
      "execution_count": null,
      "outputs": [
        {
          "output_type": "stream",
          "name": "stdout",
          "text": [
            "This finds the largest element in an array\n",
            "4\n"
          ]
        }
      ]
    },
    {
      "cell_type": "code",
      "source": [
        "#Sorted array\n",
        "print('This checks if an array is sorted')\n",
        "def sort_array(array):\n",
        "  for i in range(len(array)):\n",
        "    if array[i] > array [i+1]:\n",
        "      return False\n",
        "  return True\n",
        "\n",
        "\n",
        "sort_array([0, 1, 2, 3, 4, 5, 6, 7, 8, 9, 10])"
      ],
      "metadata": {
        "colab": {
          "base_uri": "https://localhost:8080/",
          "height": 334
        },
        "id": "6EJfY2knkjdU",
        "outputId": "072544e8-3e92-40b0-b979-0a41d026f13b"
      },
      "execution_count": null,
      "outputs": [
        {
          "output_type": "stream",
          "name": "stdout",
          "text": [
            "This checks if an array is sorted\n"
          ]
        },
        {
          "output_type": "error",
          "ename": "IndexError",
          "evalue": "ignored",
          "traceback": [
            "\u001b[0;31m---------------------------------------------------------------------------\u001b[0m",
            "\u001b[0;31mIndexError\u001b[0m                                Traceback (most recent call last)",
            "\u001b[0;32m<ipython-input-24-6adbacfbf669>\u001b[0m in \u001b[0;36m<module>\u001b[0;34m()\u001b[0m\n\u001b[1;32m      8\u001b[0m \u001b[0;34m\u001b[0m\u001b[0m\n\u001b[1;32m      9\u001b[0m \u001b[0;34m\u001b[0m\u001b[0m\n\u001b[0;32m---> 10\u001b[0;31m \u001b[0msort_array\u001b[0m\u001b[0;34m(\u001b[0m\u001b[0;34m[\u001b[0m\u001b[0;36m0\u001b[0m\u001b[0;34m,\u001b[0m \u001b[0;36m1\u001b[0m\u001b[0;34m,\u001b[0m \u001b[0;36m2\u001b[0m\u001b[0;34m,\u001b[0m \u001b[0;36m3\u001b[0m\u001b[0;34m,\u001b[0m \u001b[0;36m4\u001b[0m\u001b[0;34m,\u001b[0m \u001b[0;36m5\u001b[0m\u001b[0;34m,\u001b[0m \u001b[0;36m6\u001b[0m\u001b[0;34m,\u001b[0m \u001b[0;36m7\u001b[0m\u001b[0;34m,\u001b[0m \u001b[0;36m8\u001b[0m\u001b[0;34m,\u001b[0m \u001b[0;36m9\u001b[0m\u001b[0;34m,\u001b[0m \u001b[0;36m10\u001b[0m\u001b[0;34m]\u001b[0m\u001b[0;34m)\u001b[0m\u001b[0;34m\u001b[0m\u001b[0;34m\u001b[0m\u001b[0m\n\u001b[0m",
            "\u001b[0;32m<ipython-input-24-6adbacfbf669>\u001b[0m in \u001b[0;36msort_array\u001b[0;34m(array)\u001b[0m\n\u001b[1;32m      3\u001b[0m \u001b[0;32mdef\u001b[0m \u001b[0msort_array\u001b[0m\u001b[0;34m(\u001b[0m\u001b[0marray\u001b[0m\u001b[0;34m)\u001b[0m\u001b[0;34m:\u001b[0m\u001b[0;34m\u001b[0m\u001b[0;34m\u001b[0m\u001b[0m\n\u001b[1;32m      4\u001b[0m   \u001b[0;32mfor\u001b[0m \u001b[0mi\u001b[0m \u001b[0;32min\u001b[0m \u001b[0mrange\u001b[0m\u001b[0;34m(\u001b[0m\u001b[0mlen\u001b[0m\u001b[0;34m(\u001b[0m\u001b[0marray\u001b[0m\u001b[0;34m)\u001b[0m\u001b[0;34m)\u001b[0m\u001b[0;34m:\u001b[0m\u001b[0;34m\u001b[0m\u001b[0;34m\u001b[0m\u001b[0m\n\u001b[0;32m----> 5\u001b[0;31m     \u001b[0;32mif\u001b[0m \u001b[0marray\u001b[0m\u001b[0;34m[\u001b[0m\u001b[0mi\u001b[0m\u001b[0;34m]\u001b[0m \u001b[0;34m>\u001b[0m \u001b[0marray\u001b[0m \u001b[0;34m[\u001b[0m\u001b[0mi\u001b[0m\u001b[0;34m+\u001b[0m\u001b[0;36m1\u001b[0m\u001b[0;34m]\u001b[0m\u001b[0;34m:\u001b[0m\u001b[0;34m\u001b[0m\u001b[0;34m\u001b[0m\u001b[0m\n\u001b[0m\u001b[1;32m      6\u001b[0m       \u001b[0;32mreturn\u001b[0m \u001b[0;32mFalse\u001b[0m\u001b[0;34m\u001b[0m\u001b[0;34m\u001b[0m\u001b[0m\n\u001b[1;32m      7\u001b[0m   \u001b[0;32mreturn\u001b[0m \u001b[0;32mTrue\u001b[0m\u001b[0;34m\u001b[0m\u001b[0;34m\u001b[0m\u001b[0m\n",
            "\u001b[0;31mIndexError\u001b[0m: list index out of range"
          ]
        }
      ]
    },
    {
      "cell_type": "code",
      "source": [
        "#Second Largest (Theta n time complexity because it does one traversal of the array and theta 1 space complexity because it needs no extra array)\n",
        "print('This programs the second largest element in an array')\n",
        "def second_largest(array):\n",
        "  res = -1\n",
        "  largest = 0\n",
        "  for i in range(len(array)):\n",
        "    if (array[i] > array[largest]):\n",
        "      res = largest\n",
        "      largest = i\n",
        "    elif (array[i] != array[largest]):\n",
        "      if (res == -1 or array[i] > array[res]):\n",
        "        res = i\n",
        "  return res\n",
        "second_largest([22, 49, 9, 11, 108, 700])"
      ],
      "metadata": {
        "id": "GAaVk2g_kmQk",
        "colab": {
          "base_uri": "https://localhost:8080/"
        },
        "outputId": "f02ca5db-3bee-4165-bb1c-7ef0761f1d4a"
      },
      "execution_count": null,
      "outputs": [
        {
          "output_type": "stream",
          "name": "stdout",
          "text": [
            "This programs the second largest element in an array\n"
          ]
        },
        {
          "output_type": "execute_result",
          "data": {
            "text/plain": [
              "4"
            ]
          },
          "metadata": {},
          "execution_count": 7
        }
      ]
    },
    {
      "cell_type": "code",
      "source": [
        "#Reverse an array(time complexity theta n because for every n size of array, code runs n/2 times; auxilliary space is theta 1)\n",
        "print('This program reverses an array')\n",
        "def reverse_array(arr):\n",
        "  low = 0\n",
        "  high = len(arr) - 1\n",
        "  for i in range(len(arr)):\n",
        "    if low < high:\n",
        "      arr[low], arr[high] = arr[high], arr[low]\n",
        "      low = low + 1\n",
        "      high = high - 1\n",
        "  return arr\n",
        "\n",
        "reverse_array([22, 49, 9, 11, 108, 700])"
      ],
      "metadata": {
        "colab": {
          "base_uri": "https://localhost:8080/"
        },
        "id": "ShXglxT6iz2u",
        "outputId": "4a19becc-b072-4e84-8931-9d9a6fe1b99b"
      },
      "execution_count": null,
      "outputs": [
        {
          "output_type": "stream",
          "name": "stdout",
          "text": [
            "This program reverses an array\n"
          ]
        },
        {
          "output_type": "execute_result",
          "data": {
            "text/plain": [
              "[700, 108, 11, 9, 49, 22]"
            ]
          },
          "metadata": {},
          "execution_count": 22
        }
      ]
    },
    {
      "cell_type": "code",
      "source": [
        "#Remove duplicates from a sorted array\n",
        "print('This program removes duplicates from a sorted array')\n",
        "def remove_dups(arr):\n",
        "  res = 1\n",
        "  for i in range(len(arr)):\n",
        "    if arr[i] == arr[res - 1]:\n",
        "      arr[res] == arr[i]\n",
        "      res = res + 1\n",
        "  return arr\n",
        "\n",
        "remove_dups([10, 10, 20, 20, 20, 30, 30, 40, 40, 40, 50, 50, 50])"
      ],
      "metadata": {
        "colab": {
          "base_uri": "https://localhost:8080/",
          "height": 334
        },
        "id": "reFXnbqon1IG",
        "outputId": "4631f506-089d-4393-c5ed-5446a43dad48"
      },
      "execution_count": null,
      "outputs": [
        {
          "output_type": "stream",
          "name": "stdout",
          "text": [
            "This program removes duplicates from a sorted array\n"
          ]
        },
        {
          "output_type": "error",
          "ename": "IndexError",
          "evalue": "ignored",
          "traceback": [
            "\u001b[0;31m---------------------------------------------------------------------------\u001b[0m",
            "\u001b[0;31mIndexError\u001b[0m                                Traceback (most recent call last)",
            "\u001b[0;32m<ipython-input-2-8b2b3a6d14aa>\u001b[0m in \u001b[0;36m<module>\u001b[0;34m()\u001b[0m\n\u001b[1;32m      9\u001b[0m   \u001b[0;32mreturn\u001b[0m \u001b[0marr\u001b[0m\u001b[0;34m\u001b[0m\u001b[0;34m\u001b[0m\u001b[0m\n\u001b[1;32m     10\u001b[0m \u001b[0;34m\u001b[0m\u001b[0m\n\u001b[0;32m---> 11\u001b[0;31m \u001b[0mremove_dups\u001b[0m\u001b[0;34m(\u001b[0m\u001b[0;34m[\u001b[0m\u001b[0;36m10\u001b[0m\u001b[0;34m,\u001b[0m \u001b[0;36m10\u001b[0m\u001b[0;34m,\u001b[0m \u001b[0;36m20\u001b[0m\u001b[0;34m,\u001b[0m \u001b[0;36m20\u001b[0m\u001b[0;34m,\u001b[0m \u001b[0;36m20\u001b[0m\u001b[0;34m,\u001b[0m \u001b[0;36m30\u001b[0m\u001b[0;34m,\u001b[0m \u001b[0;36m30\u001b[0m\u001b[0;34m,\u001b[0m \u001b[0;36m40\u001b[0m\u001b[0;34m,\u001b[0m \u001b[0;36m40\u001b[0m\u001b[0;34m,\u001b[0m \u001b[0;36m40\u001b[0m\u001b[0;34m,\u001b[0m \u001b[0;36m50\u001b[0m\u001b[0;34m,\u001b[0m \u001b[0;36m50\u001b[0m\u001b[0;34m,\u001b[0m \u001b[0;36m50\u001b[0m\u001b[0;34m]\u001b[0m\u001b[0;34m)\u001b[0m\u001b[0;34m\u001b[0m\u001b[0;34m\u001b[0m\u001b[0m\n\u001b[0m",
            "\u001b[0;32m<ipython-input-2-8b2b3a6d14aa>\u001b[0m in \u001b[0;36mremove_dups\u001b[0;34m(arr)\u001b[0m\n\u001b[1;32m      5\u001b[0m   \u001b[0;32mfor\u001b[0m \u001b[0mi\u001b[0m \u001b[0;32min\u001b[0m \u001b[0mrange\u001b[0m\u001b[0;34m(\u001b[0m\u001b[0mlen\u001b[0m\u001b[0;34m(\u001b[0m\u001b[0marr\u001b[0m\u001b[0;34m)\u001b[0m\u001b[0;34m)\u001b[0m\u001b[0;34m:\u001b[0m\u001b[0;34m\u001b[0m\u001b[0;34m\u001b[0m\u001b[0m\n\u001b[1;32m      6\u001b[0m     \u001b[0;32mif\u001b[0m \u001b[0marr\u001b[0m\u001b[0;34m[\u001b[0m\u001b[0mi\u001b[0m\u001b[0;34m]\u001b[0m \u001b[0;34m==\u001b[0m \u001b[0marr\u001b[0m\u001b[0;34m[\u001b[0m\u001b[0mres\u001b[0m \u001b[0;34m-\u001b[0m \u001b[0;36m1\u001b[0m\u001b[0;34m]\u001b[0m\u001b[0;34m:\u001b[0m\u001b[0;34m\u001b[0m\u001b[0;34m\u001b[0m\u001b[0m\n\u001b[0;32m----> 7\u001b[0;31m       \u001b[0marr\u001b[0m\u001b[0;34m[\u001b[0m\u001b[0mres\u001b[0m\u001b[0;34m]\u001b[0m \u001b[0;34m==\u001b[0m \u001b[0marr\u001b[0m\u001b[0;34m[\u001b[0m\u001b[0mi\u001b[0m\u001b[0;34m]\u001b[0m\u001b[0;34m\u001b[0m\u001b[0;34m\u001b[0m\u001b[0m\n\u001b[0m\u001b[1;32m      8\u001b[0m       \u001b[0mres\u001b[0m \u001b[0;34m=\u001b[0m \u001b[0mres\u001b[0m \u001b[0;34m+\u001b[0m \u001b[0;36m1\u001b[0m\u001b[0;34m\u001b[0m\u001b[0;34m\u001b[0m\u001b[0m\n\u001b[1;32m      9\u001b[0m   \u001b[0;32mreturn\u001b[0m \u001b[0marr\u001b[0m\u001b[0;34m\u001b[0m\u001b[0;34m\u001b[0m\u001b[0m\n",
            "\u001b[0;31mIndexError\u001b[0m: list index out of range"
          ]
        }
      ]
    },
    {
      "cell_type": "code",
      "source": [
        "#Left rotate an array by one\n",
        "print('This left rotates an array (anticlockwise) by 1 place')\n",
        "def left_rot(arr):\n",
        "  temp = arr[0]\n",
        "  for i in range(len(arr)):\n",
        "    arr[i-1] = arr[i]\n",
        "  arr[-1] = temp\n",
        "  return arr\n",
        "\n",
        "left_rot([1, 2, 3, 4, 5])\n",
        "#Time complexity = theta(n)\n",
        "#Auxilliary space = theta(1)"
      ],
      "metadata": {
        "colab": {
          "base_uri": "https://localhost:8080/"
        },
        "id": "H4kYSkPn51Tv",
        "outputId": "42f10d5b-1453-468d-ff38-e7e20990e3d5"
      },
      "execution_count": null,
      "outputs": [
        {
          "output_type": "stream",
          "name": "stdout",
          "text": [
            "This left rotates an array (anticlockwise) by 1 place\n"
          ]
        },
        {
          "output_type": "execute_result",
          "data": {
            "text/plain": [
              "[2, 3, 4, 1, 1]"
            ]
          },
          "metadata": {},
          "execution_count": 7
        }
      ]
    },
    {
      "cell_type": "markdown",
      "source": [
        "# PROBLEMS ON **ARRAYS**"
      ],
      "metadata": {
        "id": "i16eSMqKy9JR"
      }
    },
    {
      "cell_type": "code",
      "source": [
        "#3. Element at index\n",
        "print('This prints the element at a given index')\n",
        "def ele_idx(array, x):\n",
        "  if array[x] in array:\n",
        "    print(array[x])\n",
        "  else:\n",
        "    print(-1)\n",
        "ele_idx([22, 49, 9, 11, 108, 700], 2)\n",
        "#Time complexity = O(1) \n",
        "#Auxilliary space = O(1)"
      ],
      "metadata": {
        "id": "KmeX-05CzBfI",
        "colab": {
          "base_uri": "https://localhost:8080/"
        },
        "outputId": "a283c4c4-d55b-41ee-f36c-9a0bb84e8a60"
      },
      "execution_count": null,
      "outputs": [
        {
          "output_type": "stream",
          "name": "stdout",
          "text": [
            "This prints the element at a given index\n",
            "9\n"
          ]
        }
      ]
    },
    {
      "cell_type": "code",
      "source": [
        "#4. Update Element at Index\n",
        "print('This program updates the element at a given index')\n",
        "def update_arr(arr):\n",
        "  y = int(input('What index do you want to edit: '))\n",
        "  x = int(input('What element do you want to change it to: '))\n",
        "  arr[y] = x\n",
        "  print(arr)\n",
        "\n",
        "update_arr([22, 49, 9, 11, 108, 700])\n",
        "#Time complexity = O(1) \n",
        "#Auxilliary space = O(1)"
      ],
      "metadata": {
        "colab": {
          "base_uri": "https://localhost:8080/"
        },
        "id": "6xIt2wHG3Vl8",
        "outputId": "8822b350-d3d6-409a-c299-b9ddcbd4d4e8"
      },
      "execution_count": null,
      "outputs": [
        {
          "output_type": "stream",
          "name": "stdout",
          "text": [
            "This program updates the element at a given index\n",
            "What index do you want to edit: 2\n",
            "What element do you want to change it to: 23\n",
            "[22, 49, 23, 11, 108, 700]\n"
          ]
        }
      ]
    },
    {
      "cell_type": "code",
      "source": [
        "#6. Count Smaller Than X\n",
        "print('This program counts the element smaller than a given number')\n",
        "def count_small(arr, x):\n",
        "  count = 0\n",
        "  for i in range(len(arr)):\n",
        "    if arr[i] < x:\n",
        "      count = count + 1\n",
        "  return count\n",
        "count_small([22, 49, 9, 11, 108, 700], 22)\n",
        "#Time complexity = theta n\n",
        "#Auxilliary space = O(1)"
      ],
      "metadata": {
        "colab": {
          "base_uri": "https://localhost:8080/"
        },
        "id": "bNbvWZ-E5RFL",
        "outputId": "2a1897b8-ad07-4c9b-cc84-b6241b26173f"
      },
      "execution_count": null,
      "outputs": [
        {
          "output_type": "stream",
          "name": "stdout",
          "text": [
            "This program counts the element smaller than a given number\n"
          ]
        },
        {
          "output_type": "execute_result",
          "data": {
            "text/plain": [
              "2"
            ]
          },
          "metadata": {},
          "execution_count": 51
        }
      ]
    },
    {
      "cell_type": "code",
      "source": [
        "#7. Count Higher Than X\n",
        "print('This program counts the element higher than a given number')\n",
        "def count_high(arr, x):\n",
        "  count = 0\n",
        "  for i in range(len(arr)):\n",
        "    if arr[i] > x:\n",
        "      count = count + 1\n",
        "  return count\n",
        "count_high([22, 49, 9, 11, 108, 700], 6)\n",
        "#Time complexity = theta n\n",
        "#Auxilliary space = O(1)"
      ],
      "metadata": {
        "colab": {
          "base_uri": "https://localhost:8080/"
        },
        "id": "CPuI2_b97qgv",
        "outputId": "0db12bc5-8d97-470d-82f7-e4d8161738e7"
      },
      "execution_count": null,
      "outputs": [
        {
          "output_type": "stream",
          "name": "stdout",
          "text": [
            "This program counts the element higher than a given number\n"
          ]
        },
        {
          "output_type": "execute_result",
          "data": {
            "text/plain": [
              "6"
            ]
          },
          "metadata": {},
          "execution_count": 53
        }
      ]
    },
    {
      "cell_type": "code",
      "source": [
        "#8. Find Immediate Smaller Than X\n",
        "print('This program finds the immediate element smaller than a given number')\n",
        "def imm_small(arr, x):\n",
        "  y = 0\n",
        "  for i in range(len(arr)):\n",
        "    if arr[i] < x and arr[i] >= arr[y]:\n",
        "      y = i\n",
        "\n",
        "  print(arr[y])\n",
        "imm_small([22, 49, 9, 11, 108, 700], 50)\n",
        "#Time complexity = theta n\n",
        "#Auxilliary space = O(1)"
      ],
      "metadata": {
        "id": "QTv41SQd64I_",
        "colab": {
          "base_uri": "https://localhost:8080/"
        },
        "outputId": "10049922-6d04-40b2-e95e-3d6062e45992"
      },
      "execution_count": null,
      "outputs": [
        {
          "output_type": "stream",
          "name": "stdout",
          "text": [
            "This program finds the immediate element smaller than a given number\n",
            "22\n"
          ]
        }
      ]
    },
    {
      "cell_type": "code",
      "source": [
        "#11. Maximum and minimum in array\n",
        "print('Print the maximum and minimum in array')\n",
        "def max_min(arr):\n",
        "  max = 0\n",
        "  min = 0\n",
        "  for i in range(1, len(arr)):\n",
        "    if arr[i] < arr[min]:\n",
        "      min = i\n",
        "    elif arr[i] != arr[max]:\n",
        "      if (max == -1 or arr[i] > arr[max]):\n",
        "        max = i\n",
        "  print(max)\n",
        "  print(min)"
      ],
      "metadata": {
        "colab": {
          "base_uri": "https://localhost:8080/"
        },
        "id": "VlPW7fiWW9pu",
        "outputId": "21cba3c2-ed2a-427a-c9e7-78ac37a6602c"
      },
      "execution_count": null,
      "outputs": [
        {
          "output_type": "stream",
          "name": "stdout",
          "text": [
            "Print the maximum and minimum in array\n"
          ]
        }
      ]
    },
    {
      "cell_type": "code",
      "source": [],
      "metadata": {
        "id": "r5ywrUYoXA3V"
      },
      "execution_count": null,
      "outputs": []
    }
  ]
}