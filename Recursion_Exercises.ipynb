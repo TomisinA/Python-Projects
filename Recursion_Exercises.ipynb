{
  "nbformat": 4,
  "nbformat_minor": 0,
  "metadata": {
    "colab": {
      "provenance": [],
      "authorship_tag": "ABX9TyPPHoSAvRkKD8Ox2iwTjSL7",
      "include_colab_link": true
    },
    "kernelspec": {
      "name": "python3",
      "display_name": "Python 3"
    },
    "language_info": {
      "name": "python"
    }
  },
  "cells": [
    {
      "cell_type": "markdown",
      "metadata": {
        "id": "view-in-github",
        "colab_type": "text"
      },
      "source": [
        "<a href=\"https://colab.research.google.com/github/TomisinA/Python-Projects/blob/main/Recursion_Exercises.ipynb\" target=\"_parent\"><img src=\"https://colab.research.google.com/assets/colab-badge.svg\" alt=\"Open In Colab\"/></a>"
      ]
    },
    {
      "cell_type": "code",
      "execution_count": null,
      "metadata": {
        "colab": {
          "base_uri": "https://localhost:8080/"
        },
        "id": "qOZBL9SQNWar",
        "outputId": "7a07a687-a331-49e8-ec96-323c36ed4e49"
      },
      "outputs": [
        {
          "output_type": "stream",
          "name": "stdout",
          "text": [
            "This code prints 1 to N number using recursion (tail recursive)\n",
            "1\n",
            "2\n",
            "3\n",
            "4\n",
            "5\n"
          ]
        }
      ],
      "source": [
        "#1. Print 1 to N Without Loop\n",
        "#print('This code prints 1 to N number using recursion')\n",
        "#def num(n):\n",
        "  #if n == 0:\n",
        "   # return \n",
        "  #else:\n",
        " #   num(n-1)\n",
        "#    print (n)\n",
        "#num(5)\n",
        "print('This code prints 1 to N number using recursion (tail recursive)')\n",
        "def num_tr(n, k):\n",
        "  if n == 0:\n",
        "    return \n",
        "  print (k) \n",
        "  return num_tr(n-1, k+1)\n",
        "num_tr(5, 1)"
      ]
    },
    {
      "cell_type": "code",
      "source": [
        "#2. Factorial Using Recursion\n",
        "print('This prints the factorial of a number')\n",
        "def fact(n):\n",
        "  if n <= 1:\n",
        "    return n\n",
        "  return n * fact(n-1)\n",
        "\n",
        "fact(5)"
      ],
      "metadata": {
        "colab": {
          "base_uri": "https://localhost:8080/"
        },
        "id": "sHL30C-6QEX5",
        "outputId": "54316694-353f-4f05-99e5-26e30f9ca532"
      },
      "execution_count": null,
      "outputs": [
        {
          "output_type": "stream",
          "name": "stdout",
          "text": [
            "This prints the factorial of a number\n"
          ]
        },
        {
          "output_type": "execute_result",
          "data": {
            "text/plain": [
              "120"
            ]
          },
          "metadata": {},
          "execution_count": 9
        }
      ]
    },
    {
      "cell_type": "code",
      "source": [
        "#3. Count Total Digits in a Number\n",
        "print('This counts the digits in a number')\n",
        "def count_num(n):\n",
        "  if n < 10:\n",
        "    return 1\n",
        "  return 1 + count_num(n//10)\n",
        "\n",
        "count_num(348976032490871238760908765493)"
      ],
      "metadata": {
        "colab": {
          "base_uri": "https://localhost:8080/"
        },
        "id": "50giN_o9QvQu",
        "outputId": "147db5d5-e060-42f5-b941-58d2fc85ad45"
      },
      "execution_count": null,
      "outputs": [
        {
          "output_type": "stream",
          "name": "stdout",
          "text": [
            "This counts the digits in a number\n"
          ]
        },
        {
          "output_type": "execute_result",
          "data": {
            "text/plain": [
              "30"
            ]
          },
          "metadata": {},
          "execution_count": 21
        }
      ]
    },
    {
      "cell_type": "code",
      "source": [
        "#4. Sum of Digits of a Number\n",
        "print('This sums up all the digits of a number')\n",
        "def sum_dig(n):\n",
        "  if n < 10:\n",
        "    return n\n",
        "  return n % 10 + sum_dig(n//10)\n",
        "\n",
        "sum_dig(10)"
      ],
      "metadata": {
        "colab": {
          "base_uri": "https://localhost:8080/"
        },
        "id": "lWWSPptBSAHN",
        "outputId": "3992ff74-f747-47a1-aa9a-b5e4436a62ae"
      },
      "execution_count": null,
      "outputs": [
        {
          "output_type": "stream",
          "name": "stdout",
          "text": [
            "This sums up all the digits of a number\n"
          ]
        },
        {
          "output_type": "execute_result",
          "data": {
            "text/plain": [
              "1"
            ]
          },
          "metadata": {},
          "execution_count": 26
        }
      ]
    },
    {
      "cell_type": "code",
      "source": [
        "#5. Recursively Sum N Numbers\n",
        "print ('This sums up n natural numbers')\n",
        "def nat_sum(n):\n",
        "  if n == 0:\n",
        "    return 0\n",
        "  return n + nat_sum(n-1)\n",
        "\n",
        "nat_sum(4)"
      ],
      "metadata": {
        "colab": {
          "base_uri": "https://localhost:8080/"
        },
        "id": "7yU8G3ceUFq0",
        "outputId": "b98408c9-c166-40c2-cbe2-bdaefda45248"
      },
      "execution_count": null,
      "outputs": [
        {
          "output_type": "stream",
          "name": "stdout",
          "text": [
            "This sums up n natural numbers\n"
          ]
        },
        {
          "output_type": "execute_result",
          "data": {
            "text/plain": [
              "10"
            ]
          },
          "metadata": {},
          "execution_count": 33
        }
      ]
    },
    {
      "cell_type": "code",
      "source": [
        "#6. Fibonacci Using Recursion\n",
        "print('This computes the nth term of a fibonacci number')\n",
        "def fib(n):\n",
        "  if (n <= 1):\n",
        "    return n\n",
        "  return fib(n-1) + fib(n-2)\n",
        "\n",
        "fib(3)"
      ],
      "metadata": {
        "colab": {
          "base_uri": "https://localhost:8080/"
        },
        "id": "j7yBH3ixU-W5",
        "outputId": "518a4432-0b88-4520-8517-3230bda32c4b"
      },
      "execution_count": null,
      "outputs": [
        {
          "output_type": "stream",
          "name": "stdout",
          "text": [
            "This computes the nth term of a fibonacci number\n"
          ]
        },
        {
          "output_type": "execute_result",
          "data": {
            "text/plain": [
              "2"
            ]
          },
          "metadata": {},
          "execution_count": 39
        }
      ]
    },
    {
      "cell_type": "code",
      "source": [
        "#7. The Sequence\n",
        "print('This computes the sequence of S(n) = n+ n*(S(n-1))')\n",
        "def seq(n):\n",
        "  if n == 0:\n",
        "    return 1\n",
        "  return n + n * seq(n-1)\n",
        "\n",
        "seq(0)"
      ],
      "metadata": {
        "colab": {
          "base_uri": "https://localhost:8080/"
        },
        "id": "1NkbSZ-MWve4",
        "outputId": "b0f39c08-550e-40cb-d973-6a36539550d2"
      },
      "execution_count": null,
      "outputs": [
        {
          "output_type": "stream",
          "name": "stdout",
          "text": [
            "This computes the sequence of S(n) = n+ n*(S(n-1))\n"
          ]
        },
        {
          "output_type": "execute_result",
          "data": {
            "text/plain": [
              "1"
            ]
          },
          "metadata": {},
          "execution_count": 45
        }
      ]
    },
    {
      "cell_type": "code",
      "source": [
        "#8. Find nCr\n",
        "print('This computes the combination given n and r')\n",
        "def com(n, r):\n",
        "  if r == 0 or r == n:\n",
        "    return 1\n",
        "  return com(n-1, r-1) + com(n-1, r)\n",
        "\n",
        "com(900, 1)"
      ],
      "metadata": {
        "colab": {
          "base_uri": "https://localhost:8080/"
        },
        "id": "YiC-itjsXeSx",
        "outputId": "5d8530ed-d13a-4f0f-97be-7741df5c07d3"
      },
      "execution_count": null,
      "outputs": [
        {
          "output_type": "stream",
          "name": "stdout",
          "text": [
            "This computes the combination given n and r\n"
          ]
        },
        {
          "output_type": "execute_result",
          "data": {
            "text/plain": [
              "900"
            ]
          },
          "metadata": {},
          "execution_count": 58
        }
      ]
    },
    {
      "cell_type": "code",
      "source": [
        "#9. Check Palindrome\n",
        "print ('This program checks if a number is a palindrome and returns 1 if it is and 0 if it is not')"
      ],
      "metadata": {
        "colab": {
          "base_uri": "https://localhost:8080/"
        },
        "id": "nbDQBEy9ggcL",
        "outputId": "f9d784ad-70bd-46c2-81a5-d8a7a3a4665a"
      },
      "execution_count": null,
      "outputs": [
        {
          "output_type": "stream",
          "name": "stdout",
          "text": [
            "This program checks if a number is a palindrome and returns 1 if it is and 0 if it is not\n"
          ]
        }
      ]
    },
    {
      "cell_type": "code",
      "source": [
        "#10. GCD Euclid\n",
        "print('This checks the greatest common divisor of two numbers')\n",
        "def gcd(n, m):\n",
        "  if n == m:\n",
        "    return 1\n",
        "  return "
      ],
      "metadata": {
        "id": "mOIKyB7rldzH"
      },
      "execution_count": null,
      "outputs": []
    },
    {
      "cell_type": "code",
      "source": [
        "def num1(n):\n",
        "  if n == 0:\n",
        "    return\n",
        "  print(n)\n",
        "  num1(n-1)\n",
        "  \n",
        "\n",
        "num1(5)"
      ],
      "metadata": {
        "colab": {
          "base_uri": "https://localhost:8080/"
        },
        "id": "gemT40r_L2SR",
        "outputId": "e29d08b4-694b-4d60-973a-c2b4820c86e6"
      },
      "execution_count": null,
      "outputs": [
        {
          "output_type": "stream",
          "name": "stdout",
          "text": [
            "5\n",
            "4\n",
            "3\n",
            "2\n",
            "1\n",
            "1\n",
            "2\n",
            "3\n",
            "4\n",
            "5\n"
          ]
        }
      ]
    }
  ]
}